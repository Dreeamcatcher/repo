{
 "nbformat": 4,
 "nbformat_minor": 0,
 "metadata": {
  "kernelspec": {
   "name": "python3",
   "language": "python",
   "display_name": "Python 3"
  },
  "language_info": {
   "codemirror_mode": {
    "name": "ipython",
    "version": 3
   },
   "file_extension": ".py",
   "mimetype": "text/x-python",
   "name": "python",
   "nbconvert_exporter": "python",
   "pygments_lexer": "ipython3",
   "version": "3.7.7"
  },
  "colab": {
   "name": "exam.ipynb",
   "provenance": [],
   "collapsed_sections": [
    "1wTXQGb8fhpH",
    "UmIR_gpOfhpR",
    "Gz4hWV3cfhpa",
    "tfgx2MQofhpk",
    "E8j9vHa2fhpt",
    "j9WFSD15fhp1",
    "xkDFtXxLfhp-",
    "0zs9ntOGfhqI",
    "3SFNrkb-fhqQ",
    "U-uH-V9BfhqZ",
    "eHIxsT_Mfhqf",
    "LDLweA0Yfhqj",
    "rzpArrmkfhqq",
    "jlX_adwbfhqw",
    "k7b_70CIfhq2",
    "UyC1iE0nfhq5",
    "2ujHtufofhq8",
    "fiV0QEWJfhrA"
   ]
  }
 },
 "cells": [
  {
   "cell_type": "markdown",
   "metadata": {
    "id": "qRuC9TWzfhnx"
   },
   "source": [
    "# Экзамен по курсу \"Аналитика данных на Python\""
   ]
  },
  {
   "cell_type": "markdown",
   "metadata": {
    "id": "QvAhR3txfhn1"
   },
   "source": [
    "Этот тест проверит Ваши навыки работы с таблицами данных с помощью библиотек pandas и numpy. Задания делятся на простые (⭐️), средние (⭐️⭐️) и сложные (⭐️⭐️⭐️). Решение простых заданий, как правило, требует одной-двух операций с таблицами, тогда как для более сложных может потребоваться несколько последовательных преобразований данных."
   ]
  },
  {
   "cell_type": "markdown",
   "metadata": {
    "id": "Frn9LjCFfhn6"
   },
   "source": [
    "##  Предыстория"
   ]
  },
  {
   "cell_type": "markdown",
   "metadata": {
    "id": "fQ1HxL0Wfhn-"
   },
   "source": [
    "Сегодня Ваш первый день работы в крупном интернет-магазине, который продаёт товары с доставкой по всему миру. Ваша первая задача – проанализировать базу данных покупок, совершённых в магазине за последние несколько лет. База содержит информацию об отдельных транзакциях, про каждую из которых известны номер инвойса (InvoiceNo), дата инвойса(InvoiceDate), код товара (StockCode), описание товара(Description), количество товара в транзакции (Quantity), стоимость единицы товара (UnitPrice), код покупателя (CustomerID), страна покупателя (Country).\n",
    "\n",
    "База выгружена для Вас в формате CSV: файл [```online-retail.csv```](https://drive.google.com/file/d/1O1oJtpEu-u6s6xTu7seQfnNcQjYCt0GF/view?usp=sharing)"
   ]
  },
  {
   "cell_type": "code",
   "metadata": {
    "id": "rueTavqpfhoB"
   },
   "source": [
    "import numpy as np\n",
    "import pandas as pd\n",
    "import matplotlib.pyplot as plt\n",
    "from datetime import datetime, date, timedelta\n",
    "import locale\n",
    "locale.setlocale(locale.LC_ALL, \"ru_RU.utf8\") # задаем локаль для вывода даты на русском языке"
   ],
   "execution_count": 10,
   "outputs": [
    {
     "data": {
      "text/plain": "'ru_RU.utf8'"
     },
     "execution_count": 10,
     "metadata": {},
     "output_type": "execute_result"
    }
   ]
  },
  {
   "cell_type": "markdown",
   "metadata": {
    "id": "_And5NHkfhoU"
   },
   "source": [
    "## ⭐️ Вопрос 1\n",
    "\n",
    "Загрузите данные из файла online-retail.csv в переменную типа pandas DataFrame\n",
    "\n",
    "Подсказка: Используйте функцию из библиотеки pandas\n",
    "\n",
    "Какой символ-разделитель используется в этом файле?\n",
    "\n",
    "* Запятая \",\"\n",
    "* Двоеточие \":\"\n",
    "* Точка с запятой \";\"\n",
    "* Символ табуляции \"tab\""
   ]
  },
  {
   "cell_type": "markdown",
   "metadata": {
    "id": "l_C6GGXmfhoW"
   },
   "source": [
    "#### Решение"
   ]
  },
  {
   "cell_type": "code",
   "metadata": {
    "id": "zabS9-nPfhoZ"
   },
   "source": [
    "df = pd.read_csv(\"/home/user/PycharmProjects/files/exam1/online-retail.csv\", sep=\";\")\n",
    "# df = pd.read_csv(\"D:/files/exam1/online-retail.csv\", sep=\";\")\n",
    "# sep - \";\""
   ],
   "execution_count": 11,
   "outputs": []
  },
  {
   "cell_type": "markdown",
   "metadata": {
    "id": "zoiRAf7Yfhon"
   },
   "source": [
    "## ⭐️ Вопрос 2\n",
    "\n",
    "Сколько строк в полученной таблице (не считая заголовков столбцов)?"
   ]
  },
  {
   "cell_type": "markdown",
   "metadata": {
    "id": "aWFyZcI9fhop"
   },
   "source": [
    "#### Решение"
   ]
  },
  {
   "cell_type": "code",
   "metadata": {
    "id": "q86b9euEfhos"
   },
   "source": [
    "print(len(df))\n",
    "# 541911"
   ],
   "execution_count": 12,
   "outputs": [
    {
     "name": "stdout",
     "output_type": "stream",
     "text": [
      "541911\n"
     ]
    }
   ]
  },
  {
   "cell_type": "markdown",
   "metadata": {
    "id": "iqElS4zqfho1"
   },
   "source": [
    "## ⭐️ Вопрос 3\n",
    "\n",
    "Сколько столбцов в полученной таблице (не считая индекса)?"
   ]
  },
  {
   "cell_type": "markdown",
   "metadata": {
    "id": "HmYnaf2afho4"
   },
   "source": [
    "#### Решение"
   ]
  },
  {
   "cell_type": "code",
   "metadata": {
    "id": "8ko0tmeNfho7"
   },
   "source": [
    "print(df.shape[1])\n",
    "\n",
    "# 8"
   ],
   "execution_count": 13,
   "outputs": [
    {
     "name": "stdout",
     "output_type": "stream",
     "text": [
      "8\n"
     ]
    }
   ]
  },
  {
   "cell_type": "markdown",
   "metadata": {
    "id": "YetDAhQzfhpF"
   },
   "source": [
    "## ⭐️ Вопрос 4\n",
    "\n",
    "Как называется столбец с самым коротким названием?"
   ]
  },
  {
   "cell_type": "markdown",
   "metadata": {
    "id": "1wTXQGb8fhpH"
   },
   "source": [
    "#### Решение"
   ]
  },
  {
   "cell_type": "code",
   "metadata": {
    "id": "q3Sim0vXfhpJ"
   },
   "source": [
    "cols = np.array(df.columns.to_list())\n",
    "print( [ x+'-'+str(len(x)) for x in cols])\n",
    "# Country"
   ],
   "execution_count": 14,
   "outputs": [
    {
     "name": "stdout",
     "output_type": "stream",
     "text": [
      "['InvoiceNo-9', 'StockCode-9', 'Description-11', 'Quantity-8', 'InvoiceDate-11', 'UnitPrice-9', 'CustomerID-10', 'Country-7']\n"
     ]
    }
   ]
  },
  {
   "cell_type": "markdown",
   "source": [
    "## ⭐️ Вопрос 5\n",
    "\n",
    "В скольких столбцах встречаются пропущенные значения? (ответ - целое число)"
   ],
   "metadata": {
    "collapsed": false
   }
  },
  {
   "cell_type": "markdown",
   "metadata": {
    "id": "UmIR_gpOfhpR"
   },
   "source": [
    "#### Решение"
   ]
  },
  {
   "cell_type": "code",
   "metadata": {
    "id": "rUPuUnUOfhpS"
   },
   "source": [
    "df.info()\n",
    "# 2"
   ],
   "execution_count": 15,
   "outputs": [
    {
     "name": "stdout",
     "output_type": "stream",
     "text": [
      "<class 'pandas.core.frame.DataFrame'>\n",
      "RangeIndex: 541911 entries, 0 to 541910\n",
      "Data columns (total 8 columns):\n",
      " #   Column       Non-Null Count   Dtype  \n",
      "---  ------       --------------   -----  \n",
      " 0   InvoiceNo    541911 non-null  object \n",
      " 1   StockCode    541911 non-null  object \n",
      " 2   Description  540456 non-null  object \n",
      " 3   Quantity     541911 non-null  int64  \n",
      " 4   InvoiceDate  541911 non-null  object \n",
      " 5   UnitPrice    541911 non-null  float64\n",
      " 6   CustomerID   406831 non-null  float64\n",
      " 7   Country      541911 non-null  object \n",
      "dtypes: float64(2), int64(1), object(5)\n",
      "memory usage: 33.1+ MB\n"
     ]
    }
   ]
  },
  {
   "cell_type": "markdown",
   "metadata": {
    "id": "1vTefL-QfhpY"
   },
   "source": [
    "## ⭐️ Вопрос 6\n",
    "\n",
    "Сколько пропущенных значений в столбце CustomerID? (ответ - целое число)"
   ]
  },
  {
   "cell_type": "markdown",
   "metadata": {
    "id": "Gz4hWV3cfhpa"
   },
   "source": [
    "#### Решение"
   ]
  },
  {
   "cell_type": "code",
   "metadata": {
    "id": "yc2USQa2fhpb"
   },
   "source": [
    "df['CustomerID'].isnull().sum()\n",
    "\n",
    "# 135080"
   ],
   "execution_count": 16,
   "outputs": [
    {
     "data": {
      "text/plain": "135080"
     },
     "execution_count": 16,
     "metadata": {},
     "output_type": "execute_result"
    }
   ]
  },
  {
   "cell_type": "markdown",
   "metadata": {
    "id": "R8z3h8U-fhpj"
   },
   "source": [
    "## ⭐️⭐️ Вопрос 7\n",
    "\n",
    "Посмотрим, данные за какой исторический период у нас есть. \n",
    "\n",
    "Данные за какой самый ранний и за какой самый поздний годы содержатся в датасете? В ответе укажите два целых числа через запятую."
   ]
  },
  {
   "cell_type": "markdown",
   "metadata": {
    "id": "tfgx2MQofhpk"
   },
   "source": [
    "#### Решение"
   ]
  },
  {
   "cell_type": "code",
   "metadata": {
    "id": "tSDJk8Amfhpl"
   },
   "source": [
    "years = df['InvoiceDate'].apply(lambda x: x[:4]).map(int)\n",
    "# years.map(int)\n",
    "print('{},{}'.format(years.min(), years.max()))\n",
    "# 2010,2011"
   ],
   "execution_count": 17,
   "outputs": [
    {
     "name": "stdout",
     "output_type": "stream",
     "text": [
      "2010,2011\n"
     ]
    }
   ]
  },
  {
   "cell_type": "markdown",
   "metadata": {
    "id": "INuGGvCZfhps"
   },
   "source": [
    "## ⭐️ Вопрос 8\n",
    "\n",
    "Каковы минимальная и максимальная цена товаров (UnitPrice)? Перечислите через запятую. Цена в этом задании может принимать отрицательные значения."
   ]
  },
  {
   "cell_type": "markdown",
   "metadata": {
    "id": "E8j9vHa2fhpt"
   },
   "source": [
    "#### Решение"
   ]
  },
  {
   "cell_type": "code",
   "metadata": {
    "id": "PTFRTpAXfhpu"
   },
   "source": [
    "prices = df['UnitPrice']\n",
    "print('{},{}'.format(prices.min(), prices.max()))\n",
    "# -11062.06,38970"
   ],
   "execution_count": 18,
   "outputs": [
    {
     "name": "stdout",
     "output_type": "stream",
     "text": [
      "-11062.06,38970.0\n"
     ]
    }
   ]
  },
  {
   "cell_type": "markdown",
   "metadata": {
    "id": "20rRayIcfhp0"
   },
   "source": [
    "## ⭐️ Вопрос 9\n",
    "\n",
    "В таблице оказались товары с отрицательными ценами! Это явно какая-то ошибка. Какое описание (Description) у таких транзакций? Перечислите все варианты через запятую, отсортировав строки по алфавиту."
   ]
  },
  {
   "cell_type": "markdown",
   "metadata": {
    "id": "j9WFSD15fhp1"
   },
   "source": [
    "#### Решение"
   ]
  },
  {
   "cell_type": "code",
   "metadata": {
    "id": "Vta8JNHKfhp3"
   },
   "source": [
    "print(','.join(df[df['UnitPrice'] < 0]['Description']))\n",
    "# Adjust bad debt,Adjust Bad debt"
   ],
   "execution_count": 19,
   "outputs": [
    {
     "name": "stdout",
     "output_type": "stream",
     "text": [
      "Adjust bad debt,Adjust bad debt\n"
     ]
    }
   ]
  },
  {
   "cell_type": "markdown",
   "metadata": {
    "id": "H1EJKLjAfhp9"
   },
   "source": [
    "## ⭐️ Вопрос 10\n",
    "\n",
    "Поищем ещё возможные проблемы с данными. Как насчёт товаров с нулевыми ценами? \n",
    "\n",
    "Сколько в таблице транзакций с нулевой ценой? А с пропусками на месте цены? \n",
    "\n",
    "Перечислите два целых числа через запятую."
   ]
  },
  {
   "cell_type": "markdown",
   "metadata": {
    "id": "xkDFtXxLfhp-"
   },
   "source": [
    "#### Решение"
   ]
  },
  {
   "cell_type": "code",
   "metadata": {
    "id": "_liV7v63fhp_"
   },
   "source": [
    "print(\\\n",
    "    '{},{}'.format(\\\n",
    "        df[df['UnitPrice'] == 0].shape[0],\\\n",
    "        df['UnitPrice'].isnull().sum()\\\n",
    "    )\\\n",
    ")"
   ],
   "execution_count": 20,
   "outputs": [
    {
     "name": "stdout",
     "output_type": "stream",
     "text": [
      "2515,0\n"
     ]
    }
   ]
  },
  {
   "cell_type": "markdown",
   "metadata": {
    "id": "Q08_ueCWfhqH"
   },
   "source": [
    "## ⭐️⭐️ Вопрос 11\n",
    "\n",
    "Для дальнейшего анализа поведения покупателей нам понадобится набор данных, в которых у каждой транзакции корректно указана цена, количество единиц товара (Quantity) и id покупателя (CustomerID). Удалите из таблицы все строки, в которых цена не превосходит 0 или пропущена, или количество единиц товара не превосходит 0 или пропущено, или в которых пропущен id покупателя. \n",
    "\n",
    "Сколько строк осталось?"
   ]
  },
  {
   "cell_type": "markdown",
   "metadata": {
    "id": "0zs9ntOGfhqI"
   },
   "source": [
    "#### Решение"
   ]
  },
  {
   "cell_type": "code",
   "metadata": {
    "id": "46HTX2BJfhqJ"
   },
   "source": [
    "df = df[\\\n",
    "    (df.UnitPrice > 0) &\\\n",
    "    (df.Quantity > 0) &\\\n",
    "    (~pd.isnull(df.CustomerID))\\\n",
    "]\n",
    "print(len(df))"
   ],
   "execution_count": 21,
   "outputs": [
    {
     "name": "stdout",
     "output_type": "stream",
     "text": [
      "397886\n"
     ]
    }
   ]
  },
  {
   "cell_type": "markdown",
   "metadata": {
    "id": "807cvilFfhqO"
   },
   "source": [
    "## Внимание! \n",
    "\n",
    "### Везде далее мы работаем с очищенной таблицей, полученной в Вопросе 11."
   ]
  },
  {
   "cell_type": "markdown",
   "metadata": {
    "id": "4dnjXB-qfhqP"
   },
   "source": [
    "## ⭐️⭐️ Вопрос 12\n",
    "\n",
    "В таблице для каждой транзакции указаны цена за единицу товара (UnitPrice) и количество единиц товара (Quantity). Вычислите для каждой транзакции её **полную стоимость** и сохраните в новом столбце Price, который добавьте в таблицу. \n",
    "\n",
    "Каковы минимальная и максимальная полная стоимость транзакций? Перечислите через запятую, округлив до целых чисел."
   ]
  },
  {
   "cell_type": "markdown",
   "metadata": {
    "id": "3SFNrkb-fhqQ"
   },
   "source": [
    "#### Решение"
   ]
  },
  {
   "cell_type": "code",
   "metadata": {
    "id": "iIIRF_p-fhqS"
   },
   "source": [
    "df['Price'] = df['UnitPrice'] * df['Quantity']\n",
    "\n",
    "print('{},{}'.format(\n",
    "        int(df['Price'].min().round()),\n",
    "        int(df['Price'].max().round())\n",
    "    )\n",
    ")"
   ],
   "execution_count": 22,
   "outputs": [
    {
     "name": "stdout",
     "output_type": "stream",
     "text": [
      "0,168470\n"
     ]
    }
   ]
  },
  {
   "cell_type": "markdown",
   "metadata": {
    "id": "iXwEUbpAfhqX"
   },
   "source": [
    "## ⭐️⭐️ Вопрос 13\n",
    "\n",
    "В нашей базе данных каждая покупка представлена одной или несколькими транзакциями. Покупка однозначно определяется своим номером инвойса (InvoiceNo). Транзакции, относящиеся к одной покупке, имеют один и тот же InvoiceNo. \n",
    "\n",
    "Стоимость всей покупки равна сумме полных стоимостей транзакций, входящих в неё. Найдите стоимости трёх самых дорогих покупок. Перечислите через запятую в порядке убывания, округлив до целых чисел."
   ]
  },
  {
   "cell_type": "markdown",
   "metadata": {
    "id": "U-uH-V9BfhqZ"
   },
   "source": [
    "#### Решение"
   ]
  },
  {
   "cell_type": "code",
   "metadata": {
    "id": "7eRtSDp0fhqZ"
   },
   "source": [
    "purchases = df[['InvoiceNo', 'Price']]\\\n",
    "    .groupby(['InvoiceNo'])\\\n",
    "    .agg('sum')\\\n",
    "    .sort_values(['Price'], ascending=False)\n",
    "print(\n",
    "    ','.join(\n",
    "        map(\n",
    "            str, map(int, purchases.iloc[0:3,0].round())\n",
    "        )\n",
    "    )\n",
    ")"
   ],
   "execution_count": 23,
   "outputs": [
    {
     "name": "stdout",
     "output_type": "stream",
     "text": [
      "168470,77184,38970\n"
     ]
    }
   ]
  },
  {
   "cell_type": "markdown",
   "metadata": {
    "id": "OOFeUBI4fhqd"
   },
   "source": [
    "## ⭐️⭐️ Вопрос 14\n",
    "\n",
    "Какой товар составил наибольшую выручку? В ответе укажите описание товара (дословно строку из соответствующего поля в столбце Description)."
   ]
  },
  {
   "cell_type": "markdown",
   "metadata": {
    "id": "eHIxsT_Mfhqf"
   },
   "source": [
    "#### Решение"
   ]
  },
  {
   "cell_type": "code",
   "metadata": {
    "id": "9wCt8Oz4fhqf"
   },
   "source": [
    "print(\n",
    "    df[df['InvoiceNo'] == purchases.index[0]]['Description']\\\n",
    "        .values[0]\n",
    ")"
   ],
   "execution_count": 24,
   "outputs": [
    {
     "name": "stdout",
     "output_type": "stream",
     "text": [
      "PAPER CRAFT , LITTLE BIRDIE\n"
     ]
    }
   ]
  },
  {
   "cell_type": "markdown",
   "metadata": {
    "id": "x7takqgnfhqj"
   },
   "source": [
    "## ⭐️⭐️ Вопрос 15\n",
    "\n",
    "Создайте новую таблицу purchases, в которой каждая строка будет соответствовать отдельной покупке, со столбцами \n",
    "InvoiceNo, InvoiceDate, Price, CustomerID, Country.\n",
    "\n",
    "Поскольку дата InvoiceDate может быть отличаться для разных транзакций внутри одной покупки, при группировке возьмите самую раннюю из дат. Также отсортируйте её по датам по возрастанию.\n",
    "\n",
    "Сколько получилось строк?"
   ]
  },
  {
   "cell_type": "markdown",
   "metadata": {
    "id": "LDLweA0Yfhqj"
   },
   "source": [
    "#### Решение"
   ]
  },
  {
   "cell_type": "code",
   "metadata": {
    "id": "jkjImvCXfhql"
   },
   "source": [
    "df['InvoiceDate'] = df['InvoiceDate'].apply(\n",
    "    lambda x: datetime.strptime(x, '%Y-%m-%d %H:%M:%S')\n",
    ")\n",
    "purchases = df[['InvoiceNo', 'InvoiceDate', 'Price', 'CustomerID', 'Country']]\\\n",
    "    .groupby(['InvoiceNo'])\\\n",
    "    .agg({'InvoiceDate':np.min, 'Price':'sum', 'CustomerID':'first', 'Country':'first'})\\\n",
    "    .sort_values(['InvoiceDate'])\\\n",
    "    .reset_index()\n",
    "print(len(purchases))"
   ],
   "execution_count": 25,
   "outputs": [
    {
     "name": "stdout",
     "output_type": "stream",
     "text": [
      "18533\n"
     ]
    }
   ]
  },
  {
   "cell_type": "markdown",
   "metadata": {
    "id": "wsDjduFpfhqp"
   },
   "source": [
    "## ⭐️⭐️ Вопрос 16\n",
    "\n",
    "Исследуем, растут или убывают покупки наших клиентов после их первой покупки на сайте.\n",
    "Найдите среднюю цену первых покупок клиентов: для каждого клиента возьмите его первую покупку и усредните эти значения. Найдите среднюю цену покупок в целом. Округлите эти числа до целых и перечислите в этом порядке через запятую."
   ]
  },
  {
   "cell_type": "markdown",
   "metadata": {
    "id": "rzpArrmkfhqq"
   },
   "source": [
    "#### Решение"
   ]
  },
  {
   "cell_type": "code",
   "metadata": {
    "id": "4fvR_p2Bfhqq"
   },
   "source": [
    "first_purchase_mean = purchases[['CustomerID', 'Price']]\\\n",
    "    .groupby(['CustomerID'])\\\n",
    "    .agg('first')\\\n",
    "    .reset_index()\\\n",
    "   ['Price']\\\n",
    "    .mean()\n",
    "print(\n",
    "    '{},{}'.format(\n",
    "        int(round(first_purchase_mean)),\n",
    "        int(round(purchases['Price'].mean()))\n",
    "    )\n",
    ")"
   ],
   "execution_count": 26,
   "outputs": [
    {
     "name": "stdout",
     "output_type": "stream",
     "text": [
      "425,481\n"
     ]
    }
   ]
  },
  {
   "cell_type": "markdown",
   "metadata": {
    "id": "Qxcpz-aVfhqv"
   },
   "source": [
    "## ⭐️⭐️⭐️ Вопрос 17\n",
    "\n",
    "В какой день недели было наибольшее число покупок? В ответе укажите русское название дня недели, начинающееся с заглавной буквы.\n",
    "\n",
    "\n",
    "Подсказка: \n",
    "* Преобразуйте тип данных в столбце InvoiceDate таблицы purchases из строк в datetime. \n",
    "* Для каждой покупки вычислите день недели, в который она была совершена. Сохраните в новый столбец.\n",
    "* Сгруппируйте таблицу по дням недели."
   ]
  },
  {
   "cell_type": "markdown",
   "metadata": {
    "id": "jlX_adwbfhqw"
   },
   "source": [
    "#### Решение"
   ]
  },
  {
   "cell_type": "code",
   "execution_count": 27,
   "outputs": [
    {
     "name": "stdout",
     "output_type": "stream",
     "text": [
      "Четверг\n"
     ]
    }
   ],
   "source": [
    "purchases['DayOfWeek'] = purchases['InvoiceDate']\\\n",
    "    .apply(lambda x: x.strftime(\"%A\").capitalize())\n",
    "\n",
    "days_of_week = purchases[['DayOfWeek', 'InvoiceNo']].\\\n",
    "    groupby(['DayOfWeek'])\\\n",
    "    .count()\\\n",
    "    .rename(columns={'InvoiceNo':'amount'})\\\n",
    "\n",
    "print(\n",
    "    days_of_week[days_of_week['amount'] == days_of_week['amount'].max()]\\\n",
    "        .index[0]\n",
    ")"
   ],
   "metadata": {
    "collapsed": false,
    "pycharm": {
     "name": "#%%\n"
    }
   }
  },
  {
   "cell_type": "markdown",
   "source": [
    "## ⭐️⭐️⭐️ Вопрос 18\n",
    "\n",
    "В какой год и месяц выручка была максимальной?\n",
    "\n",
    "Подсказка: \n",
    "* Преобразуйте тип данных в столбце InvoiceDate таблицы purchases из строк в datetime. \n",
    "* Для каждой покупки вычислите год и месяц, в которые она была совершена. Сохраните в новые столбцы.\n",
    "* Сгруппируйте таблицу по новым столбцам\n",
    "\n",
    "В ответе укажите два целых числа через запятую: год, месяц"
   ],
   "metadata": {
    "collapsed": false
   }
  },
  {
   "cell_type": "markdown",
   "metadata": {
    "id": "k7b_70CIfhq2"
   },
   "source": [
    "#### Решение"
   ]
  },
  {
   "cell_type": "code",
   "metadata": {
    "id": "C7YosvXBfhq2"
   },
   "source": [
    "purchases['month'] = purchases['InvoiceDate']\\\n",
    "    .apply(lambda x: x.strftime(\"%-m\"))\n",
    "purchases['year'] = purchases['InvoiceDate']\\\n",
    "    .apply(lambda x: x.strftime(\"%Y\"))\n",
    "df_year_month = purchases[['year', 'month','Price']]\\\n",
    "    .groupby(['year', 'month'])\\\n",
    "    .agg({'Price':'count'})\\\n",
    "    .rename(columns={'Price':'total'})\n",
    "print(\n",
    "    ','.join(\n",
    "        list(\n",
    "            df_year_month[\n",
    "                 df_year_month['total'] == df_year_month['total'].max()\n",
    "             ].index[0]\n",
    "        )\n",
    "    )\n",
    ")"
   ],
   "execution_count": 48,
   "outputs": [
    {
     "name": "stdout",
     "output_type": "stream",
     "text": [
      "2011,11\n"
     ]
    }
   ]
  },
  {
   "cell_type": "markdown",
   "metadata": {
    "id": "sU7-9E2nfhq4"
   },
   "source": [
    "## ⭐️⭐️⭐️ Вопрос 19\n",
    "\n",
    "Магазин продаёт товары покупателям из разных стран (Country). В какой стране был наибольший процентный рост месячных продаж, если сравнить март 2011 и сентябрь 2011? Сколько процентов составил этот рост? В расчёт брать только страны, в которых были ненулевые продажи в обоих этих месяцах. В ответе укажите через запятую название страны и целое число (процентный рост, округлённый до целого числа)."
   ]
  },
  {
   "cell_type": "markdown",
   "metadata": {
    "id": "UyC1iE0nfhq5"
   },
   "source": [
    "#### Решение"
   ]
  },
  {
   "cell_type": "code",
   "metadata": {
    "id": "BB0tn1a_fhq5"
   },
   "source": [
    "df_country = purchases[\n",
    "    (purchases['year'] == '2011') &\n",
    "    (purchases['month'].isin(['3','9']))\n",
    "]\n",
    "df_country = df_country[['Country','month','Price']].groupby(['Country','month']).agg('sum').reset_index()\n",
    "\n",
    "filter_countries = df_country[['Country', 'month']]\\\n",
    "    .groupby(['Country'])\\\n",
    "    .count()\\\n",
    "    .reset_index()\n",
    "filter_countries = filter_countries[filter_countries.month == 2]['Country'].to_list()\n",
    "df_country = df_country[df_country['Country'].isin(filter_countries)]\n",
    "\n",
    "df_country = df_country.pivot(index='Country', columns='month', values='Price').reset_index()"
   ],
   "execution_count": 98,
   "outputs": []
  },
  {
   "cell_type": "code",
   "execution_count": 109,
   "outputs": [
    {
     "name": "stdout",
     "output_type": "stream",
     "text": [
      "Norway,586\n"
     ]
    }
   ],
   "source": [
    "df_country['inc_percent'] = (df_country['9'] * 100 / df_country['3']) - 100\n",
    "df_country['inc_percent'] = df_country['inc_percent'].apply(lambda x: int(round(x)))\n",
    "\n",
    "print(\n",
    "    '{},{}'.format(\n",
    "        df_country[df_country['inc_percent'] == df_country['inc_percent'].max()]['Country'].values[0],\n",
    "        df_country[df_country['inc_percent'] == df_country['inc_percent'].max()]['inc_percent'].values[0]\n",
    "    )\n",
    ")"
   ],
   "metadata": {
    "collapsed": false,
    "pycharm": {
     "name": "#%%\n"
    }
   }
  },
  {
   "cell_type": "markdown",
   "metadata": {
    "id": "ZvCX0qZufhq7"
   },
   "source": [
    "## ⭐️⭐️⭐️ Вопрос 20\n",
    "\n",
    "Большинство клиентов все свои покупки делают из одной и той же страны. Выясним, однако, насколько велика доля путешественников среди клиентов. \n",
    "Сколько клиентов сделали покупки по крайней мере из двух разных стран? (ответ - целое число)"
   ]
  },
  {
   "cell_type": "markdown",
   "metadata": {
    "id": "2ujHtufofhq8"
   },
   "source": [
    "#### Решение"
   ]
  },
  {
   "cell_type": "code",
   "metadata": {
    "id": "2AhOPHJQfhq8"
   },
   "source": [
    ""
   ],
   "execution_count": 27,
   "outputs": []
  },
  {
   "cell_type": "markdown",
   "metadata": {
    "id": "pQrKQuPEfhrA"
   },
   "source": [
    "## ⭐️⭐️⭐️ Вопрос 21\n",
    "\n",
    "Мы запускаем в Италии рекомендательную систему \"С этим товаром часто покупают...\", и для этого хотим узнать, какие различные товары чаще всего встречаются в одной покупке из этой страны. Определите, какая пара различных товаров чаще всего встречается в различных покупках с ```Country=='Italy'```, и в скольких покупках это происходит. Одинаковые товары или нет, проверяйте по равенству поля Description. \n",
    "\n",
    "(ответ: название (Description) первого товара, название (Description) второго товара, целое число)"
   ]
  },
  {
   "cell_type": "markdown",
   "metadata": {
    "id": "fiV0QEWJfhrA"
   },
   "source": [
    "#### Решение"
   ]
  },
  {
   "cell_type": "code",
   "metadata": {
    "id": "HDa1ruzgfhrA"
   },
   "source": [
    ""
   ],
   "execution_count": 27,
   "outputs": []
  }
 ]
}
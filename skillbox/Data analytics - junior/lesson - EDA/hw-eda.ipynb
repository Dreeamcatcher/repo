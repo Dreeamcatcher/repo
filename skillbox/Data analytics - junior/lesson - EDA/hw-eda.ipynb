{
 "nbformat": 4,
 "nbformat_minor": 0,
 "metadata": {
  "kernelspec": {
   "name": "python3",
   "language": "python",
   "display_name": "Python 3"
  },
  "language_info": {
   "codemirror_mode": {
    "name": "ipython",
    "version": 3
   },
   "file_extension": ".py",
   "mimetype": "text/x-python",
   "name": "python",
   "nbconvert_exporter": "python",
   "pygments_lexer": "ipython3",
   "version": "3.7.4"
  },
  "toc-showtags": false,
  "colab": {
   "name": "Мастер-класс: Разведочный анализ данных & Подготовка отчетов. Домашнее задание.ipynb",
   "provenance": [],
   "collapsed_sections": []
  }
 },
 "cells": [
  {
   "cell_type": "markdown",
   "metadata": {
    "_cell_guid": "f8818773-a629-472e-9cc1-54fb35e99670",
    "_uuid": "b3df1cdd81022580f5a7613271b1309641b26157",
    "id": "lxhqbhwbbzkG"
   },
   "source": [
    "# Skillbox — Мастер-класс: Разведочный анализ данных + Подготовка отчётов — Kiva.org\n",
    "***"
   ]
  },
  {
   "cell_type": "markdown",
   "metadata": {
    "id": "5uLJ0evRuQoN"
   },
   "source": []
  },
  {
   "cell_type": "markdown",
   "metadata": {
    "id": "vBqFivbiMhAK"
   },
   "source": [
    "# Новый раздел"
   ]
  },
  {
   "cell_type": "markdown",
   "metadata": {
    "id": "sb2LxV_0bzng"
   },
   "source": [
    "# 4. Домашнее задание\n",
    "***"
   ]
  },
  {
   "cell_type": "markdown",
   "metadata": {
    "id": "0Sw1jasUMtpY",
    "pycharm": {
     "name": "#%% md\n"
    }
   },
   "source": [
    "# Подготовка данных"
   ]
  },
  {
   "cell_type": "code",
   "execution_count": 2,
   "outputs": [],
   "source": [
    "import numpy as np\n",
    "import pandas as pd\n",
    "import math\n",
    "import missingno as msno\n",
    "from datetime import datetime, timedelta\n",
    "\n",
    "import matplotlib.pyplot as plt\n",
    "%matplotlib inline\n",
    "import seaborn as sns\n",
    "plt.style.use('seaborn-darkgrid')\n",
    "palette = plt.get_cmap('Set2')"
   ],
   "metadata": {
    "collapsed": false,
    "pycharm": {
     "name": "#%%\n"
    }
   }
  },
  {
   "cell_type": "code",
   "execution_count": 3,
   "outputs": [],
   "source": [
    "df_kiva_loans = pd.read_csv(\"/home/user/PycharmProjects/files/1-15-kiva/kiva_loans.csv\")\n",
    "df_mpi = pd.read_csv(\"/home/user/PycharmProjects/files/1-15-kiva/kiva_mpi_region_locations.csv\")"
   ],
   "metadata": {
    "collapsed": false,
    "pycharm": {
     "name": "#%%\n"
    }
   }
  },
  {
   "cell_type": "code",
   "execution_count": 4,
   "outputs": [],
   "source": [
    "countries = df_kiva_loans['country'].value_counts()[df_kiva_loans['country'].value_counts(normalize=True)> 0.005]\n",
    "list_countries = list(countries.index)\n",
    "df_mpi_grouped = df_mpi\\\n",
    "    .groupby(['ISO', 'country', 'world_region'])['MPI']\\\n",
    "    .mean()\\\n",
    "    .fillna(0)\\\n",
    "    .reset_index()\n",
    "df_kiva_loans = df_kiva_loans.merge(df_mpi_grouped, how='left', on='country')\n",
    "# regions = df_kiva_loans['world_region'].value_counts()\n",
    "# regions_list = regions.index.to_list()\n",
    "df_kiva_loans['borrower_genders'] = [elem if elem in ['female','male'] else 'group' for elem in df_kiva_loans['borrower_genders'] ]\n"
   ],
   "metadata": {
    "collapsed": false,
    "pycharm": {
     "name": "#%%\n"
    }
   }
  },
  {
   "cell_type": "code",
   "execution_count": 5,
   "outputs": [],
   "source": [
    "df_gender_by_country = \\\n",
    "    df_kiva_loans[df_kiva_loans['country'].isin(countries.index.values)]\\\n",
    "    .groupby(['country', 'borrower_genders'])['borrower_genders']\\\n",
    "    .count()\\\n",
    "    .groupby(level=0).apply(lambda x: 100 * x / x.sum())\\\n",
    "    .unstack('borrower_genders')\\\n",
    "    .fillna(0)\\\n",
    "\n",
    "df_gender_by_country = df_gender_by_country[['male', 'group', 'female' ]]"
   ],
   "metadata": {
    "collapsed": false,
    "pycharm": {
     "name": "#%%\n"
    }
   }
  },
  {
   "cell_type": "markdown",
   "source": [
    "В каких странах преобладают мужчины? Группа людей? (п. 2.2.2.)"
   ],
   "metadata": {
    "collapsed": false
   }
  },
  {
   "cell_type": "code",
   "metadata": {
    "id": "fcTAuqVtMtXj"
   },
   "source": [
    "print('Страны где преобладают мужчины:')\n",
    "df_gender_by_country[(df_gender_by_country.male > df_gender_by_country.female) &\n",
    "                     (df_gender_by_country.male > df_gender_by_country.group)\n",
    "]\\\n",
    "    .sort_values(by='male', ascending=False)"
   ],
   "execution_count": 8,
   "outputs": [
    {
     "name": "stdout",
     "output_type": "stream",
     "text": [
      "Страны где преобладают мужчины:\n"
     ]
    },
    {
     "data": {
      "text/plain": "borrower_genders       male      group     female\ncountry                                          \nNigeria           87.134964   0.878058  11.986977\nPalestine         64.601445   0.183666  35.214889\nUganda            48.701519  11.421776  39.876705\nMexico            34.767462  30.743773  34.488765",
      "text/html": "<div>\n<style scoped>\n    .dataframe tbody tr th:only-of-type {\n        vertical-align: middle;\n    }\n\n    .dataframe tbody tr th {\n        vertical-align: top;\n    }\n\n    .dataframe thead th {\n        text-align: right;\n    }\n</style>\n<table border=\"1\" class=\"dataframe\">\n  <thead>\n    <tr style=\"text-align: right;\">\n      <th>borrower_genders</th>\n      <th>male</th>\n      <th>group</th>\n      <th>female</th>\n    </tr>\n    <tr>\n      <th>country</th>\n      <th></th>\n      <th></th>\n      <th></th>\n    </tr>\n  </thead>\n  <tbody>\n    <tr>\n      <th>Nigeria</th>\n      <td>87.134964</td>\n      <td>0.878058</td>\n      <td>11.986977</td>\n    </tr>\n    <tr>\n      <th>Palestine</th>\n      <td>64.601445</td>\n      <td>0.183666</td>\n      <td>35.214889</td>\n    </tr>\n    <tr>\n      <th>Uganda</th>\n      <td>48.701519</td>\n      <td>11.421776</td>\n      <td>39.876705</td>\n    </tr>\n    <tr>\n      <th>Mexico</th>\n      <td>34.767462</td>\n      <td>30.743773</td>\n      <td>34.488765</td>\n    </tr>\n  </tbody>\n</table>\n</div>"
     },
     "execution_count": 8,
     "metadata": {},
     "output_type": "execute_result"
    }
   ]
  },
  {
   "cell_type": "code",
   "execution_count": 7,
   "outputs": [
    {
     "name": "stdout",
     "output_type": "stream",
     "text": [
      "Страны где преобладают группы:\n"
     ]
    },
    {
     "data": {
      "text/plain": "borrower_genders       male      group     female\ncountry                                          \nMali               4.835066  91.836120   3.328815\nCambodia           5.368010  73.682398  20.949592\nGuatemala         20.314637  62.640219  17.045144\nTanzania          10.346810  59.149262  30.503928\nGhana             16.095107  57.933242  25.971651\nParaguay          19.129631  55.053348  25.817021\nRwanda            22.865627  42.746845  34.387528",
      "text/html": "<div>\n<style scoped>\n    .dataframe tbody tr th:only-of-type {\n        vertical-align: middle;\n    }\n\n    .dataframe tbody tr th {\n        vertical-align: top;\n    }\n\n    .dataframe thead th {\n        text-align: right;\n    }\n</style>\n<table border=\"1\" class=\"dataframe\">\n  <thead>\n    <tr style=\"text-align: right;\">\n      <th>borrower_genders</th>\n      <th>male</th>\n      <th>group</th>\n      <th>female</th>\n    </tr>\n    <tr>\n      <th>country</th>\n      <th></th>\n      <th></th>\n      <th></th>\n    </tr>\n  </thead>\n  <tbody>\n    <tr>\n      <th>Mali</th>\n      <td>4.835066</td>\n      <td>91.836120</td>\n      <td>3.328815</td>\n    </tr>\n    <tr>\n      <th>Cambodia</th>\n      <td>5.368010</td>\n      <td>73.682398</td>\n      <td>20.949592</td>\n    </tr>\n    <tr>\n      <th>Guatemala</th>\n      <td>20.314637</td>\n      <td>62.640219</td>\n      <td>17.045144</td>\n    </tr>\n    <tr>\n      <th>Tanzania</th>\n      <td>10.346810</td>\n      <td>59.149262</td>\n      <td>30.503928</td>\n    </tr>\n    <tr>\n      <th>Ghana</th>\n      <td>16.095107</td>\n      <td>57.933242</td>\n      <td>25.971651</td>\n    </tr>\n    <tr>\n      <th>Paraguay</th>\n      <td>19.129631</td>\n      <td>55.053348</td>\n      <td>25.817021</td>\n    </tr>\n    <tr>\n      <th>Rwanda</th>\n      <td>22.865627</td>\n      <td>42.746845</td>\n      <td>34.387528</td>\n    </tr>\n  </tbody>\n</table>\n</div>"
     },
     "execution_count": 7,
     "metadata": {},
     "output_type": "execute_result"
    }
   ],
   "source": [
    "print('Страны где преобладают группы:')\n",
    "df_gender_by_country[(df_gender_by_country.group> df_gender_by_country.female) &\n",
    "                     (df_gender_by_country.group> df_gender_by_country.male)\n",
    "]\\\n",
    "    .sort_values(by='group', ascending=False)\n"
   ],
   "metadata": {
    "collapsed": false,
    "pycharm": {
     "name": "#%%\n"
    }
   }
  },
  {
   "cell_type": "markdown",
   "metadata": {
    "id": "yAGPSgFVbznh"
   },
   "source": [
    "## 4.1. Самостоятельная работа\n",
    "***"
   ]
  },
  {
   "cell_type": "markdown",
   "metadata": {
    "id": "04Waz3uubznh"
   },
   "source": [
    "- А в каких странах преобладают мужчины? Группа людей? (п. 2.2.2.)\n",
    "- Изучите несколько займов с очень большими суммами. Что можно сказать о назначении этих заявок? В каких странах они оформлены? Каков гендерный состав заявителей? (п. 2.4.2.)\n",
    "- Попробуйте найти связь между странами (регионами), полом заёмщика и суммой заявки. Какие выводы можно сделать из этих данных? (п. 2.4.3.)"
   ]
  },
  {
   "cell_type": "markdown",
   "metadata": {
    "id": "4J8NsnCsbznh"
   },
   "source": [
    "## 4.2. Домашняя работа\n",
    "***"
   ]
  },
  {
   "cell_type": "markdown",
   "metadata": {
    "id": "Ev97SUmzbznh"
   },
   "source": [
    "Расширьте наш отчёт исследованием следующих вопросов:\n",
    "\n",
    "- Зависимость пола заёмщика от региона планеты, сектора экономики.\n",
    "- Влияние такого атрибута займа, как **Количество кредиторов** (lender_count), на суммы и сроки займов.\n",
    "- Влияние показателя **MPI** (многомерный индекс бедности) в разных странах на суммы займов и сроки погашения.\n",
    "- Зависимости таких метрик, как «Сумма займа», «Срок займа», «Время финансирования заявки», «Ежемесячный платёж», в разрезе **макрорегионов**."
   ]
  }
 ]
}
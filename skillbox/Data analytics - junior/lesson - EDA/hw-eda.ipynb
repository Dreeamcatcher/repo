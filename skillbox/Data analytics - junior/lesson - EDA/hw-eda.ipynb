{
 "nbformat": 4,
 "nbformat_minor": 0,
 "metadata": {
  "kernelspec": {
   "name": "python3",
   "language": "python",
   "display_name": "Python 3"
  },
  "language_info": {
   "codemirror_mode": {
    "name": "ipython",
    "version": 3
   },
   "file_extension": ".py",
   "mimetype": "text/x-python",
   "name": "python",
   "nbconvert_exporter": "python",
   "pygments_lexer": "ipython3",
   "version": "3.7.4"
  },
  "toc-showtags": false,
  "colab": {
   "name": "Мастер-класс: Разведочный анализ данных & Подготовка отчетов. Домашнее задание.ipynb",
   "provenance": [],
   "collapsed_sections": []
  }
 },
 "cells": [
  {
   "cell_type": "markdown",
   "source": [
    "# 4. Домашнее задание\n",
    "***"
   ],
   "metadata": {
    "collapsed": false
   }
  },
  {
   "cell_type": "markdown",
   "source": [
    "## Подготовка данных"
   ],
   "metadata": {
    "collapsed": false
   }
  },
  {
   "cell_type": "code",
   "execution_count": 1,
   "outputs": [],
   "source": [
    "import numpy as np\n",
    "import pandas as pd\n",
    "import math\n",
    "import missingno as msno\n",
    "from datetime import datetime, timedelta\n",
    "\n",
    "import matplotlib.pyplot as plt\n",
    "%matplotlib inline\n",
    "import seaborn as sns\n",
    "plt.style.use('seaborn-darkgrid')\n",
    "palette = plt.get_cmap('Set2')"
   ],
   "metadata": {
    "collapsed": false,
    "pycharm": {
     "name": "#%%\n"
    }
   }
  },
  {
   "cell_type": "code",
   "execution_count": 2,
   "outputs": [],
   "source": [
    "df_kiva_loans = pd.read_csv(\"D:/files/1-15-kiva/kiva_loans.csv\")\n",
    "df_mpi = pd.read_csv(\"D:/files/1-15-kiva/kiva_mpi_region_locations.csv\")\n",
    "# df_kiva_loans = pd.read_csv(\"/home/user/PycharmProjects/files/1-15-kiva/kiva_loans.csv\")\n",
    "# df_mpi = pd.read_csv(\"/home/user/PycharmProjects/files/1-15-kiva/kiva_mpi_region_locations.csv\")"
   ],
   "metadata": {
    "collapsed": false,
    "pycharm": {
     "name": "#%%\n"
    }
   }
  },
  {
   "cell_type": "code",
   "execution_count": 3,
   "outputs": [],
   "source": [
    "countries = df_kiva_loans['country'].value_counts()[df_kiva_loans['country'].value_counts(normalize=True)> 0.005]\n",
    "list_countries = list(countries.index)\n",
    "df_mpi_grouped = df_mpi\\\n",
    "    .groupby(['ISO', 'country', 'world_region'])['MPI']\\\n",
    "    .mean()\\\n",
    "    .fillna(0)\\\n",
    "    .reset_index()\n",
    "df_kiva_loans = df_kiva_loans.merge(df_mpi_grouped, how='left', on='country')\n",
    "# regions = df_kiva_loans['world_region'].value_counts()\n",
    "# regions_list = regions.index.to_list()\n",
    "df_kiva_loans['borrower_genders'] = [elem if elem in ['female','male'] else 'group' for elem in df_kiva_loans['borrower_genders'] ]\n"
   ],
   "metadata": {
    "collapsed": false,
    "pycharm": {
     "name": "#%%\n"
    }
   }
  },
  {
   "cell_type": "code",
   "execution_count": 4,
   "outputs": [],
   "source": [
    "df_gender_by_country = \\\n",
    "    df_kiva_loans[df_kiva_loans['country'].isin(countries.index.values)]\\\n",
    "    .groupby(['country', 'borrower_genders'])['borrower_genders']\\\n",
    "    .count()\\\n",
    "    .groupby(level=0).apply(lambda x: 100 * x / x.sum())\\\n",
    "    .unstack('borrower_genders')\\\n",
    "    .fillna(0)\\\n",
    "\n",
    "df_gender_by_country = df_gender_by_country[['male', 'group', 'female' ]]\n",
    "\n",
    "# Наблюдаемое отклонение от среднего\n",
    "dev = (df_kiva_loans['loan_amount']-df_kiva_loans['loan_amount'].mean()).abs()\n",
    "# Стандартное отклонение\n",
    "std = df_kiva_loans['loan_amount'].std()\n",
    "# Фильтруем исходный набор данных\n",
    "df_kiva_loans_trimmed = df_kiva_loans[~(dev>3*std)]"
   ],
   "metadata": {
    "collapsed": false,
    "pycharm": {
     "name": "#%%\n"
    }
   }
  },
  {
   "cell_type": "code",
   "execution_count": 5,
   "outputs": [
    {
     "name": "stderr",
     "output_type": "stream",
     "text": [
      "c:\\users\\user\\appdata\\local\\programs\\python\\python38-32\\lib\\site-packages\\pandas\\core\\frame.py:3065: SettingWithCopyWarning: \n",
      "A value is trying to be set on a copy of a slice from a DataFrame.\n",
      "Try using .loc[row_indexer,col_indexer] = value instead\n",
      "\n",
      "See the caveats in the documentation: https://pandas.pydata.org/pandas-docs/stable/user_guide/indexing.html#returning-a-view-versus-a-copy\n",
      "  self[k1] = value[k2]\n",
      "c:\\users\\user\\appdata\\local\\programs\\python\\python38-32\\lib\\site-packages\\pandas\\core\\indexing.py:1596: SettingWithCopyWarning: \n",
      "A value is trying to be set on a copy of a slice from a DataFrame.\n",
      "Try using .loc[row_indexer,col_indexer] = value instead\n",
      "\n",
      "See the caveats in the documentation: https://pandas.pydata.org/pandas-docs/stable/user_guide/indexing.html#returning-a-view-versus-a-copy\n",
      "  self.obj[key] = _infer_fill_value(value)\n",
      "c:\\users\\user\\appdata\\local\\programs\\python\\python38-32\\lib\\site-packages\\pandas\\core\\indexing.py:1745: SettingWithCopyWarning: \n",
      "A value is trying to be set on a copy of a slice from a DataFrame.\n",
      "Try using .loc[row_indexer,col_indexer] = value instead\n",
      "\n",
      "See the caveats in the documentation: https://pandas.pydata.org/pandas-docs/stable/user_guide/indexing.html#returning-a-view-versus-a-copy\n",
      "  isetter(ilocs[0], value)\n"
     ]
    }
   ],
   "source": [
    "# drop na (missing) values\n",
    "df_loans_dates = df_kiva_loans_trimmed.dropna(subset=['disbursed_time', 'funded_time'], how='any', inplace=False)\n",
    "\n",
    "# dates columns:\n",
    "dates = ['posted_time','disbursed_time']\n",
    "\n",
    "# format dates:\n",
    "df_loans_dates[dates] = df_loans_dates[dates].applymap(lambda x : x.split('+')[0])\n",
    "df_loans_dates[dates] = df_loans_dates[dates].apply(pd.to_datetime)\n",
    "\n",
    "# calculate time interval\n",
    "df_loans_dates.loc[:, 'time_funding'] = df_loans_dates['disbursed_time']-df_loans_dates['posted_time']\n",
    "df_loans_dates.loc[:, 'time_funding'] = df_loans_dates['time_funding'] / timedelta(days=1)\n",
    "\n",
    "# remove outliers +-3 sigma\n",
    "dev = (df_loans_dates['time_funding']-df_loans_dates['time_funding'].mean()).abs()\n",
    "std = df_loans_dates['time_funding'].std()\n",
    "# Keep rows where time_funding interval > 0 only\n",
    "df_loans_dates_trimmed = df_loans_dates[~(dev>3*std) & (df_loans_dates.loc[:, 'time_funding']>0)]"
   ],
   "metadata": {
    "collapsed": false,
    "pycharm": {
     "name": "#%%\n"
    }
   }
  },
  {
   "cell_type": "markdown",
   "source": [
    "## 4.1. Самостоятельная работа\n",
    "***\n",
    "- А в каких странах преобладают мужчины? Группа людей? (п. 2.2.2.)\n",
    "- Изучите несколько займов с очень большими суммами. Что можно сказать о назначении этих заявок? В каких странах они оформлены? Каков гендерный состав заявителей? (п. 2.4.2.)\n",
    "- Попробуйте найти связь между странами (регионами), полом заёмщика и суммой заявки. Какие выводы можно сделать из этих данных? (п. 2.4.3.)"
   ],
   "metadata": {
    "collapsed": false
   }
  },
  {
   "cell_type": "markdown",
   "source": [
    "## В каких странах преобладают мужчины? Группа людей? (п. 2.2.2.)"
   ],
   "metadata": {
    "collapsed": false
   }
  },
  {
   "cell_type": "code",
   "execution_count": 6,
   "outputs": [
    {
     "name": "stdout",
     "output_type": "stream",
     "text": [
      "Страны где преобладают мужчины:\n"
     ]
    },
    {
     "data": {
      "text/plain": "borrower_genders       male      group     female\ncountry                                          \nNigeria           87.134964   0.878058  11.986977\nPalestine         64.601445   0.183666  35.214889\nUganda            48.701519  11.421776  39.876705\nMexico            34.767462  30.743773  34.488765",
      "text/html": "<div>\n<style scoped>\n    .dataframe tbody tr th:only-of-type {\n        vertical-align: middle;\n    }\n\n    .dataframe tbody tr th {\n        vertical-align: top;\n    }\n\n    .dataframe thead th {\n        text-align: right;\n    }\n</style>\n<table border=\"1\" class=\"dataframe\">\n  <thead>\n    <tr style=\"text-align: right;\">\n      <th>borrower_genders</th>\n      <th>male</th>\n      <th>group</th>\n      <th>female</th>\n    </tr>\n    <tr>\n      <th>country</th>\n      <th></th>\n      <th></th>\n      <th></th>\n    </tr>\n  </thead>\n  <tbody>\n    <tr>\n      <th>Nigeria</th>\n      <td>87.134964</td>\n      <td>0.878058</td>\n      <td>11.986977</td>\n    </tr>\n    <tr>\n      <th>Palestine</th>\n      <td>64.601445</td>\n      <td>0.183666</td>\n      <td>35.214889</td>\n    </tr>\n    <tr>\n      <th>Uganda</th>\n      <td>48.701519</td>\n      <td>11.421776</td>\n      <td>39.876705</td>\n    </tr>\n    <tr>\n      <th>Mexico</th>\n      <td>34.767462</td>\n      <td>30.743773</td>\n      <td>34.488765</td>\n    </tr>\n  </tbody>\n</table>\n</div>"
     },
     "execution_count": 6,
     "metadata": {},
     "output_type": "execute_result"
    }
   ],
   "source": [
    "print('Страны где преобладают мужчины:')\n",
    "df_gender_by_country[(df_gender_by_country.male > df_gender_by_country.female) &\n",
    "                     (df_gender_by_country.male > df_gender_by_country.group)\n",
    "]\\\n",
    "    .sort_values(by='male', ascending=False)"
   ],
   "metadata": {
    "collapsed": false,
    "pycharm": {
     "name": "#%%\n"
    }
   }
  },
  {
   "cell_type": "code",
   "execution_count": 7,
   "outputs": [
    {
     "name": "stdout",
     "output_type": "stream",
     "text": [
      "Страны где преобладают группы:\n"
     ]
    },
    {
     "data": {
      "text/plain": "borrower_genders       male      group     female\ncountry                                          \nMali               4.835066  91.836120   3.328815\nCambodia           5.368010  73.682398  20.949592\nGuatemala         20.314637  62.640219  17.045144\nTanzania          10.346810  59.149262  30.503928\nGhana             16.095107  57.933242  25.971651\nParaguay          19.129631  55.053348  25.817021\nRwanda            22.865627  42.746845  34.387528",
      "text/html": "<div>\n<style scoped>\n    .dataframe tbody tr th:only-of-type {\n        vertical-align: middle;\n    }\n\n    .dataframe tbody tr th {\n        vertical-align: top;\n    }\n\n    .dataframe thead th {\n        text-align: right;\n    }\n</style>\n<table border=\"1\" class=\"dataframe\">\n  <thead>\n    <tr style=\"text-align: right;\">\n      <th>borrower_genders</th>\n      <th>male</th>\n      <th>group</th>\n      <th>female</th>\n    </tr>\n    <tr>\n      <th>country</th>\n      <th></th>\n      <th></th>\n      <th></th>\n    </tr>\n  </thead>\n  <tbody>\n    <tr>\n      <th>Mali</th>\n      <td>4.835066</td>\n      <td>91.836120</td>\n      <td>3.328815</td>\n    </tr>\n    <tr>\n      <th>Cambodia</th>\n      <td>5.368010</td>\n      <td>73.682398</td>\n      <td>20.949592</td>\n    </tr>\n    <tr>\n      <th>Guatemala</th>\n      <td>20.314637</td>\n      <td>62.640219</td>\n      <td>17.045144</td>\n    </tr>\n    <tr>\n      <th>Tanzania</th>\n      <td>10.346810</td>\n      <td>59.149262</td>\n      <td>30.503928</td>\n    </tr>\n    <tr>\n      <th>Ghana</th>\n      <td>16.095107</td>\n      <td>57.933242</td>\n      <td>25.971651</td>\n    </tr>\n    <tr>\n      <th>Paraguay</th>\n      <td>19.129631</td>\n      <td>55.053348</td>\n      <td>25.817021</td>\n    </tr>\n    <tr>\n      <th>Rwanda</th>\n      <td>22.865627</td>\n      <td>42.746845</td>\n      <td>34.387528</td>\n    </tr>\n  </tbody>\n</table>\n</div>"
     },
     "execution_count": 7,
     "metadata": {},
     "output_type": "execute_result"
    }
   ],
   "source": [
    "print('Страны где преобладают группы:')\n",
    "df_gender_by_country[(df_gender_by_country.group> df_gender_by_country.female) &\n",
    "                     (df_gender_by_country.group> df_gender_by_country.male)\n",
    "]\\\n",
    "    .sort_values(by='group', ascending=False)"
   ],
   "metadata": {
    "collapsed": false,
    "pycharm": {
     "name": "#%%\n"
    }
   }
  },
  {
   "cell_type": "markdown",
   "source": [
    "## Изучите несколько займов с очень большими суммами. Что можно сказать о назначении этих заявок? В каких странах они оформлены? Каков гендерный состав заявителей? (п. 2.4.2.)"
   ],
   "metadata": {
    "collapsed": false
   }
  },
  {
   "cell_type": "code",
   "execution_count": 8,
   "outputs": [],
   "source": [
    "df_high_loan = df_kiva_loans[df_kiva_loans.loan_amount >= 50000]"
   ],
   "metadata": {
    "collapsed": false,
    "pycharm": {
     "name": "#%%\n"
    }
   }
  },
  {
   "cell_type": "markdown",
   "source": [
    "Большими займами будем считать, те займы, сумма которых больше 50000:"
   ],
   "metadata": {
    "collapsed": false
   }
  },
  {
   "cell_type": "code",
   "execution_count": 14,
   "outputs": [
    {
     "data": {
      "text/plain": "<Figure size 1440x720 with 1 Axes>",
      "image/png": "[encoded data removed]"
     },
     "metadata": {},
     "output_type": "display_data"
    },
    {
     "data": {
      "text/plain": "                     activity  \\\n0                 Agriculture   \n1                 Agriculture   \n2   Renewable Energy Products   \n3                      Health   \n4                      Health   \n5      Higher education costs   \n6                     Poultry   \n7   Renewable Energy Products   \n8   Renewable Energy Products   \n9   Renewable Energy Products   \n10  Renewable Energy Products   \n11         Goods Distribution   \n12  Renewable Energy Products   \n13  Renewable Energy Products   \n14  Renewable Energy Products   \n15  Renewable Energy Products   \n16                   Services   \n17                       Taxi   \n18                     Health   \n19           Furniture Making   \n\n                                                  use  max_loan  \n0   create more than 300 jobs for women and farmer...  100000.0  \n1   To pay smallholder coffee farmers in rural Ken...   50000.0  \n2   to distribute 200+ innovative & affordable pay...   50000.0  \n3   to mitigate CO2 & household air pollution, whi...   50000.0  \n4   to provide community trauma services in South ...   50000.0  \n5   to provide loans and career services for the l...   50000.0  \n6   to purchase chicken feed & a delivery vehicle ...   50000.0  \n7      To buy and sell Barefoot Power solar lighting.   50000.0  \n8   To buy and sell Barefoot Power's solar lightin...   50000.0  \n9   to buy and sell Barefoot Power's Solar Lightin...   50000.0  \n10  to distribute 400 pay-as-you-go solar home sys...   50000.0  \n11  to bolster logistics of affordable water distr...   50000.0  \n12  to distribute 400 pay-as-you-go solar systems ...   50000.0  \n13  to distribute solar home systems throughout ru...   50000.0  \n14  to generate income to over 600 fishermen in Ta...   50000.0  \n15  to provide life-changing clean cookstoves and ...   50000.0  \n16  Impact Hub Accra improve its innovation and en...   50000.0  \n17  to generate USD1.2mm in fuel savings and impac...   50000.0  \n18  To purchase raw materials in order to produce ...   50000.0  \n19  create jobs through environmentally-friendly m...   50000.0  ",
      "text/html": "<div>\n<style scoped>\n    .dataframe tbody tr th:only-of-type {\n        vertical-align: middle;\n    }\n\n    .dataframe tbody tr th {\n        vertical-align: top;\n    }\n\n    .dataframe thead th {\n        text-align: right;\n    }\n</style>\n<table border=\"1\" class=\"dataframe\">\n  <thead>\n    <tr style=\"text-align: right;\">\n      <th></th>\n      <th>activity</th>\n      <th>use</th>\n      <th>max_loan</th>\n    </tr>\n  </thead>\n  <tbody>\n    <tr>\n      <th>0</th>\n      <td>Agriculture</td>\n      <td>create more than 300 jobs for women and farmer...</td>\n      <td>100000.0</td>\n    </tr>\n    <tr>\n      <th>1</th>\n      <td>Agriculture</td>\n      <td>To pay smallholder coffee farmers in rural Ken...</td>\n      <td>50000.0</td>\n    </tr>\n    <tr>\n      <th>2</th>\n      <td>Renewable Energy Products</td>\n      <td>to distribute 200+ innovative &amp; affordable pay...</td>\n      <td>50000.0</td>\n    </tr>\n    <tr>\n      <th>3</th>\n      <td>Health</td>\n      <td>to mitigate CO2 &amp; household air pollution, whi...</td>\n      <td>50000.0</td>\n    </tr>\n    <tr>\n      <th>4</th>\n      <td>Health</td>\n      <td>to provide community trauma services in South ...</td>\n      <td>50000.0</td>\n    </tr>\n    <tr>\n      <th>5</th>\n      <td>Higher education costs</td>\n      <td>to provide loans and career services for the l...</td>\n      <td>50000.0</td>\n    </tr>\n    <tr>\n      <th>6</th>\n      <td>Poultry</td>\n      <td>to purchase chicken feed &amp; a delivery vehicle ...</td>\n      <td>50000.0</td>\n    </tr>\n    <tr>\n      <th>7</th>\n      <td>Renewable Energy Products</td>\n      <td>To buy and sell Barefoot Power solar lighting.</td>\n      <td>50000.0</td>\n    </tr>\n    <tr>\n      <th>8</th>\n      <td>Renewable Energy Products</td>\n      <td>To buy and sell Barefoot Power's solar lightin...</td>\n      <td>50000.0</td>\n    </tr>\n    <tr>\n      <th>9</th>\n      <td>Renewable Energy Products</td>\n      <td>to buy and sell Barefoot Power's Solar Lightin...</td>\n      <td>50000.0</td>\n    </tr>\n    <tr>\n      <th>10</th>\n      <td>Renewable Energy Products</td>\n      <td>to distribute 400 pay-as-you-go solar home sys...</td>\n      <td>50000.0</td>\n    </tr>\n    <tr>\n      <th>11</th>\n      <td>Goods Distribution</td>\n      <td>to bolster logistics of affordable water distr...</td>\n      <td>50000.0</td>\n    </tr>\n    <tr>\n      <th>12</th>\n      <td>Renewable Energy Products</td>\n      <td>to distribute 400 pay-as-you-go solar systems ...</td>\n      <td>50000.0</td>\n    </tr>\n    <tr>\n      <th>13</th>\n      <td>Renewable Energy Products</td>\n      <td>to distribute solar home systems throughout ru...</td>\n      <td>50000.0</td>\n    </tr>\n    <tr>\n      <th>14</th>\n      <td>Renewable Energy Products</td>\n      <td>to generate income to over 600 fishermen in Ta...</td>\n      <td>50000.0</td>\n    </tr>\n    <tr>\n      <th>15</th>\n      <td>Renewable Energy Products</td>\n      <td>to provide life-changing clean cookstoves and ...</td>\n      <td>50000.0</td>\n    </tr>\n    <tr>\n      <th>16</th>\n      <td>Services</td>\n      <td>Impact Hub Accra improve its innovation and en...</td>\n      <td>50000.0</td>\n    </tr>\n    <tr>\n      <th>17</th>\n      <td>Taxi</td>\n      <td>to generate USD1.2mm in fuel savings and impac...</td>\n      <td>50000.0</td>\n    </tr>\n    <tr>\n      <th>18</th>\n      <td>Health</td>\n      <td>To purchase raw materials in order to produce ...</td>\n      <td>50000.0</td>\n    </tr>\n    <tr>\n      <th>19</th>\n      <td>Furniture Making</td>\n      <td>create jobs through environmentally-friendly m...</td>\n      <td>50000.0</td>\n    </tr>\n  </tbody>\n</table>\n</div>"
     },
     "execution_count": 14,
     "metadata": {},
     "output_type": "execute_result"
    }
   ],
   "source": [
    "high_loan_activity = df_high_loan['activity'].value_counts()\n",
    "\n",
    "plt.figure(figsize=(20,10))\n",
    "plt.title(\"Количество больших займов в разрезе назначений\", fontsize=16)\n",
    "plt.tick_params(labelsize=14)\n",
    "sns.barplot(y=high_loan_activity.index, x=high_loan_activity.values, alpha=0.6)\n",
    "plt.show()\n",
    "\n",
    "# sns.jointplot(x='loan_amount', y='country', data=df_high_loan , kind='scatter')\n",
    "\n",
    "df_high_loan.groupby(['activity', 'use'])['loan_amount']\\\n",
    "    .agg(max_loan = 'max')\\\n",
    "    .sort_values('max_loan', ascending=False)\\\n",
    "    .reset_index()[:20]"
   ],
   "metadata": {
    "collapsed": false,
    "pycharm": {
     "name": "#%%\n"
    }
   }
  },
  {
   "cell_type": "markdown",
   "source": [
    "**Доминирующим направлением** в который направляются самые крупные займы является **сельское хозяйство**.\n",
    "Так же как и для большинства всех остальных займов.\n",
    "Это подтверждает вывод, что страны в которых выдаются займы Kiva - преимущественно развивающиеся страны.\n",
    "\n",
    "Однако, учитывая суммы интересующих нас займов, можно предположить, что масштаб целевых назначений теперь гораздо крупнее, чем\n",
    "\"покупка семян\" или \"покупка удобрений\".\n",
    "Из полученной нами детализации топ10-ти самых крупных займов, мы видим - речь идет о создании рабочих мест для фермеров,\n",
    "покупке новых плантаций, закупке продукции мелких фермеров и т.д..\n",
    "\n",
    "**Вторым по востребованности направлением займов** является **\"возобновляемые источники энергии\"**.\n",
    "Среди конкретных назначений таких займов - покупка и перепродажа солнечных батарей, внедрение инновационных домашних\n",
    "солнечных панелей и т.д..\n",
    "Это свидетельствует о том, что страны целевого назначения данных займов испытывают **энергетическую потребность**, возможно, при внедрении новых производств и технологий.\n",
    "\n",
    "\n",
    "Остальные займы распределены в примерно равных долях в следующих производственных и социальных секторах экономики:\n",
    "- Здравоохранение\n",
    "- Транспорт\n",
    "- Торговля\n",
    "- Строительство\n",
    "- Производство (пища, мебель, одежда, вода)\n",
    "- Обслуживание\n",
    "- Образование\n",
    "\n",
    "В целом, можно сказать, что **займы крупных размеров направлены на развитие бизнеса, создание рабочих мест\n",
    "и новых объектов инфраструктуры**."
   ],
   "metadata": {
    "collapsed": false,
    "pycharm": {
     "name": "#%% md\n"
    }
   }
  },
  {
   "cell_type": "markdown",
   "source": [
    "Страны в которых эти займы были оформлены:"
   ],
   "metadata": {
    "collapsed": false
   }
  },
  {
   "cell_type": "code",
   "execution_count": 15,
   "outputs": [
    {
     "data": {
      "text/plain": "Kenya            7\nPeru             4\nGhana            4\nMexico           4\nUganda           3\nHaiti            3\nTanzania         2\nEcuador          1\nRwanda           1\nMadagascar       1\nZimbabwe         1\nBenin            1\nGuatemala        1\nMozambique       1\nPakistan         1\nMalawi           1\nSouth Sudan      1\nAlbania          1\nIndonesia        1\nCote D'Ivoire    1\nZambia           1\nName: country, dtype: int64"
     },
     "execution_count": 15,
     "metadata": {},
     "output_type": "execute_result"
    }
   ],
   "source": [
    "df_high_loan['country'].value_counts()"
   ],
   "metadata": {
    "collapsed": false,
    "pycharm": {
     "name": "#%%\n"
    }
   }
  },
  {
   "cell_type": "markdown",
   "source": [
    "Гендерный состав заявителей:"
   ],
   "metadata": {
    "collapsed": false
   }
  },
  {
   "cell_type": "code",
   "execution_count": 16,
   "outputs": [
    {
     "data": {
      "text/plain": "<Figure size 432x288 with 1 Axes>",
      "image/png": "[encoded data removed]"
     },
     "metadata": {},
     "output_type": "display_data"
    }
   ],
   "source": [
    "borrowers = df_high_loan['borrower_genders'].value_counts()\n",
    "plot = borrowers.plot.pie(fontsize=16, autopct='%1.0f%%', labeldistance=1.2, radius=1.5)"
   ],
   "metadata": {
    "collapsed": false,
    "pycharm": {
     "name": "#%%\n"
    }
   }
  },
  {
   "cell_type": "markdown",
   "source": [
    "## Попробуйте найти связь между странами (регионами), полом заёмщика и суммой заявки. Какие выводы можно сделать из этих данных? (п. 2.4.3.)"
   ],
   "metadata": {
    "collapsed": false
   }
  },
  {
   "cell_type": "code",
   "execution_count": null,
   "outputs": [],
   "source": [
    "df_loan_gender = df_kiva_loans.groupby(['world_region', 'borrower_genders'])['loan_amount']\\\n",
    "    .agg(median_loan = 'median')\\\n",
    "    .sort_values('median_loan', ascending=False)\\\n",
    "    .reset_index()"
   ],
   "metadata": {
    "collapsed": false,
    "pycharm": {
     "name": "#%%\n"
    }
   }
  },
  {
   "cell_type": "code",
   "execution_count": null,
   "outputs": [],
   "source": [
    "plt.figure(figsize=(20,10))\n",
    "plt.title(\"Медиана суммы займа по полу заемщика в разрезе регионов\", fontsize=16)\n",
    "plt.tick_params(labelsize=14)\n",
    "sns.barplot(data=df_loan_gender , y='world_region', x='median_loan', hue='borrower_genders', alpha=0.6)\n",
    "plt.show()"
   ],
   "metadata": {
    "collapsed": false,
    "pycharm": {
     "name": "#%%\n"
    }
   }
  },
  {
   "cell_type": "markdown",
   "source": [
    "# Домашняя работа\n",
    "***\n",
    "Расширьте наш отчёт исследованием следующих вопросов:\n",
    "\n",
    "- Зависимость пола заёмщика от региона планеты, сектора экономики.\n",
    "- Влияние такого атрибута займа, как **Количество кредиторов** (lender_count), на суммы и сроки займов.\n",
    "- Влияние показателя **MPI** (многомерный индекс бедности) в разных странах на суммы займов и сроки погашения.\n",
    "- Зависимости таких метрик, как «Сумма займа», «Срок займа», «Время финансирования заявки», «Ежемесячный платёж», в разрезе **макрорегионов**."
   ],
   "metadata": {
    "collapsed": false
   }
  },
  {
   "cell_type": "markdown",
   "source": [
    "## Зависимость пола заёмщика от региона планеты, сектора экономики."
   ],
   "metadata": {
    "collapsed": false
   }
  },
  {
   "cell_type": "code",
   "execution_count": null,
   "outputs": [],
   "source": [
    "df_gender_by_region = \\\n",
    "    df_kiva_loans\\\n",
    "    .groupby(['world_region', 'borrower_genders'])['borrower_genders']\\\n",
    "    .count()\\\n",
    "    .groupby(level=0).apply(lambda x: 100 * x / x.sum())\\\n",
    "    .unstack('borrower_genders')\\\n",
    "    .fillna(0)\n",
    "    # .sort_values(by=['female', 'male'])[-20:]\n",
    "\n",
    "df_gender_by_region = df_gender_by_region[['female', 'male', 'group']]\n",
    "\n",
    "df_gender_by_sector = \\\n",
    "    df_kiva_loans\\\n",
    "    .groupby(['sector', 'borrower_genders'])['borrower_genders']\\\n",
    "    .count()\\\n",
    "    .groupby(level=0).apply(lambda x: 100 * x / x.sum())\\\n",
    "    .unstack('borrower_genders')\\\n",
    "    .fillna(0)\n",
    "\n",
    "df_gender_by_sector = df_gender_by_sector[['female', 'male', 'group']]"
   ],
   "metadata": {
    "collapsed": false,
    "pycharm": {
     "name": "#%%\n"
    }
   }
  },
  {
   "cell_type": "code",
   "execution_count": null,
   "outputs": [],
   "source": [
    "plot = df_gender_by_region.plot.barh(\n",
    "        figsize=(20,10)\n",
    "        , fontsize=16\n",
    "        , stacked=True\n",
    "        , title='Гендерная структура заемщиков по регионам')\n",
    "plot.title.set_size(18)\n",
    "plot.legend(loc=1, bbox_to_anchor=(1.2, 1), fontsize=16)\n",
    "plot.set(ylabel=None, xlabel=None)\n",
    "plt.show()"
   ],
   "metadata": {
    "collapsed": false,
    "pycharm": {
     "name": "#%%\n"
    }
   }
  },
  {
   "cell_type": "code",
   "execution_count": null,
   "outputs": [],
   "source": [
    "plot = df_gender_by_sector.plot.barh(\n",
    "        figsize=(20,10)\n",
    "        , fontsize=16\n",
    "        , stacked=True\n",
    "        , title='Гендерная структура заемщиков по секторам экономики')\n",
    "plot.title.set_size(18)\n",
    "plot.legend(loc=1, bbox_to_anchor=(1.2, 1), fontsize=16)\n",
    "plot.set(ylabel=None, xlabel=None)\n",
    "plt.show()"
   ],
   "metadata": {
    "collapsed": false,
    "pycharm": {
     "name": "#%%\n"
    }
   }
  },
  {
   "cell_type": "markdown",
   "source": [
    "## Влияние такого атрибута займа, как **Количество кредиторов** (lender_count), на суммы и сроки займов."
   ],
   "metadata": {
    "collapsed": false
   }
  },
  {
   "cell_type": "code",
   "execution_count": null,
   "outputs": [],
   "source": [
    "# sns.jointplot(x=\"lender_count\", y=\"loan_amount\", data=df_kiva_loans, kind='kde', height=10, ratio=7, xlim=[0,40] , ylim=[0,2200])\\\n",
    "#     .set_axis_labels(\"Количество дней\", \"Сумма займа\", size=18)\n",
    "sns.jointplot(x='lender_count', y='loan_amount', data=df_kiva_loans_trimmed, kind='reg');"
   ],
   "metadata": {
    "collapsed": false,
    "pycharm": {
     "name": "#%%\n"
    }
   }
  },
  {
   "cell_type": "code",
   "execution_count": null,
   "outputs": [],
   "source": [
    "p = sns.jointplot(x='lender_count', y='loan_amount', data=df_kiva_loans_trimmed, kind='kde', height=10, ratio=7)\\\n",
    "    .set_axis_labels('Количество кредиторов', 'Сумма займа', size=18)\n",
    "p.ax_joint.tick_params(labelsize=14)\n",
    "plt.show()"
   ],
   "metadata": {
    "collapsed": false,
    "pycharm": {
     "name": "#%%\n"
    }
   }
  },
  {
   "cell_type": "code",
   "execution_count": null,
   "outputs": [],
   "source": [
    "sns.jointplot(x='lender_count', y='term_in_months', data=df_kiva_loans_trimmed, kind='reg');"
   ],
   "metadata": {
    "collapsed": false,
    "pycharm": {
     "name": "#%%\n"
    }
   }
  },
  {
   "cell_type": "code",
   "execution_count": null,
   "outputs": [],
   "source": [
    "p = sns.jointplot(x='lender_count', y='term_in_months', data=df_kiva_loans_trimmed, kind='kde', height=10, ratio=7)\\\n",
    "    .set_axis_labels('Количество кредиторов', 'Срок займа', size=18)\n",
    "p.ax_joint.tick_params(labelsize=14)\n",
    "plt.show()"
   ],
   "metadata": {
    "collapsed": false,
    "pycharm": {
     "name": "#%%\n"
    }
   }
  },
  {
   "cell_type": "markdown",
   "source": [
    "## Влияние показателя **MPI** (многомерный индекс бедности) в разных странах на суммы займов и сроки погашения."
   ],
   "metadata": {
    "collapsed": false
   }
  },
  {
   "cell_type": "code",
   "execution_count": null,
   "outputs": [],
   "source": [
    "df_mpi_by_country = df_kiva_loans_trimmed[['country', 'world_region', 'MPI', 'loan_amount', 'term_in_months']]\\\n",
    "    .groupby(['country', 'MPI'])\\\n",
    "    .agg({'world_region': 'first', 'loan_amount' : 'median', 'term_in_months' : 'median'})\\\n",
    "    .reset_index()\n",
    "\n",
    "regions = df_mpi['world_region'].dropna().unique()\n",
    "\n",
    "df_mpi_by_country"
   ],
   "metadata": {
    "collapsed": false,
    "pycharm": {
     "name": "#%%\n"
    }
   }
  },
  {
   "cell_type": "code",
   "execution_count": null,
   "outputs": [],
   "source": [
    "fig, ax = plt.subplots(figsize=(20,10))\n",
    "ax.set_title('Зависимость суммы займов от MPI, по странам', fontsize=24)\n",
    "colors = [plt.cm.tab10(i/float(len(regions)-1)) for i in range(len(regions))]\n",
    "for idx, region in enumerate(regions):\n",
    "    df_mpi_by_country[df_mpi_by_country.world_region == region]\\\n",
    "        .plot.scatter(x='loan_amount', y='MPI', color=colors[idx], ax=ax, label=region)\n",
    "ax.set_xlabel('Сумма займа', fontsize=22)\n",
    "ax.set_ylabel('MPI', fontsize=22)\n",
    "plt.show()\n"
   ],
   "metadata": {
    "collapsed": false,
    "pycharm": {
     "name": "#%%\n"
    }
   }
  },
  {
   "cell_type": "code",
   "execution_count": null,
   "outputs": [],
   "source": [
    "sns.jointplot(x='loan_amount', y='MPI', data=df_mpi_by_country, kind='reg', size=10)\\\n",
    "    .set_axis_labels('Сумма займа',\"MPI\", fontsize=20)\n",
    "plt.show()"
   ],
   "metadata": {
    "collapsed": false,
    "pycharm": {
     "name": "#%%\n"
    }
   }
  },
  {
   "cell_type": "code",
   "execution_count": null,
   "outputs": [],
   "source": [
    "fig, ax = plt.subplots(figsize=(20,10))\n",
    "ax.set_title('Зависимость срока займа от MPI, по странам', fontsize=24)\n",
    "colors = [plt.cm.tab10(i/float(len(regions)-1)) for i in range(len(regions))]\n",
    "for idx, region in enumerate(regions):\n",
    "    df_mpi_by_country[df_mpi_by_country.world_region == region]\\\n",
    "        .plot.scatter(x='term_in_months', y='MPI', color=colors[idx], ax=ax, label=region)\n",
    "ax.set_xlabel('Срок займа (в месяцах)', fontsize=22)\n",
    "ax.set_ylabel('MPI', fontsize=22)\n",
    "plt.show()"
   ],
   "metadata": {
    "collapsed": false,
    "pycharm": {
     "name": "#%%\n"
    }
   }
  },
  {
   "cell_type": "code",
   "execution_count": null,
   "outputs": [],
   "source": [
    "sns.jointplot(x='term_in_months', y='MPI', data=df_mpi_by_country, kind='reg', size=10)\\\n",
    "    .set_axis_labels('Срок займа',\"MPI\", fontsize=20)\n",
    "plt.show()"
   ],
   "metadata": {
    "collapsed": false,
    "pycharm": {
     "name": "#%%\n"
    }
   }
  },
  {
   "cell_type": "code",
   "execution_count": null,
   "outputs": [],
   "source": [],
   "metadata": {
    "collapsed": false,
    "pycharm": {
     "name": "#%%\n"
    }
   }
  },
  {
   "cell_type": "markdown",
   "source": [
    "## Зависимости таких метрик, как «Сумма займа», «Срок займа», «Время финансирования заявки», «Ежемесячный платёж», в разрезе **макрорегионов**."
   ],
   "metadata": {
    "collapsed": false
   }
  },
  {
   "cell_type": "code",
   "execution_count": null,
   "outputs": [],
   "source": [
    "df_regions_median = df_loans_dates_trimmed.groupby(['world_region'])\\\n",
    "    .agg({'loan_amount' : 'median', 'time_funding' : 'median', 'term_in_months' : 'median'})\\\n",
    "    .reset_index()\n",
    "\n",
    "df_regions_median['monthly_repayment'] = df_regions_median['loan_amount'] / df_regions_median['term_in_months']"
   ],
   "metadata": {
    "collapsed": false,
    "pycharm": {
     "name": "#%%\n"
    }
   }
  },
  {
   "cell_type": "code",
   "execution_count": null,
   "outputs": [],
   "source": [
    "plt.figure(figsize=(10,8), dpi= 80)\n",
    "p = sns.pairplot(df_regions_median, kind=\"reg\", hue=\"world_region\")\n",
    "plt.show()"
   ],
   "metadata": {
    "collapsed": false,
    "pycharm": {
     "name": "#%%\n"
    }
   }
  },
  {
   "cell_type": "code",
   "execution_count": null,
   "outputs": [],
   "source": [
    "plt.figure(figsize=(10,8), dpi= 80)\n",
    "p = sns.pairplot(df_regions_median, kind=\"reg\", hue=\"world_region\")\n",
    "plt.show()"
   ],
   "metadata": {
    "collapsed": false,
    "pycharm": {
     "name": "#%%\n"
    }
   }
  },
  {
   "cell_type": "code",
   "execution_count": null,
   "outputs": [],
   "source": [
    "p = sns.jointplot(x='lender_count', y='loan_amount', data=df_kiva_loans_trimmed, kind='kde', height=10, ratio=7)\\\n",
    "    .set_axis_labels('Количество кредиторов', 'Сумма займа', size=18)\n",
    "p.ax_joint.tick_params(labelsize=14)\n",
    "plt.show()"
   ],
   "metadata": {
    "collapsed": false,
    "pycharm": {
     "name": "#%%\n"
    }
   }
  },
  {
   "cell_type": "code",
   "execution_count": null,
   "outputs": [],
   "source": [
    "sns.jointplot(x='lender_count', y='term_in_months', data=df_kiva_loans_trimmed, kind='reg');"
   ],
   "metadata": {
    "collapsed": false,
    "pycharm": {
     "name": "#%%\n"
    }
   }
  },
  {
   "cell_type": "code",
   "execution_count": null,
   "outputs": [],
   "source": [
    "p = sns.jointplot(x='lender_count', y='term_in_months', data=df_kiva_loans_trimmed, kind='kde', height=10, ratio=7)\\\n",
    "    .set_axis_labels('Количество кредиторов', 'Срок займа', size=18)\n",
    "p.ax_joint.tick_params(labelsize=14)\n",
    "plt.show()"
   ],
   "metadata": {
    "collapsed": false,
    "pycharm": {
     "name": "#%%\n"
    }
   }
  },
  {
   "cell_type": "code",
   "execution_count": null,
   "outputs": [],
   "source": [
    "- Влияние показателя **MPI** (многомерный индекс бедности) в разных странах на суммы займов и сроки погашения."
   ],
   "metadata": {
    "collapsed": false,
    "pycharm": {
     "name": "#%%\n"
    }
   }
  },
  {
   "cell_type": "code",
   "execution_count": null,
   "outputs": [],
   "source": [
    "df_mpi_by_country = df_kiva_loans_trimmed[['country', 'world_region', 'MPI', 'loan_amount', 'term_in_months']]\\\n",
    "    .groupby(['country', 'MPI'])\\\n",
    "    .agg({'world_region': 'first', 'loan_amount' : 'median', 'term_in_months' : 'median'})\\\n",
    "    .reset_index()\n",
    "\n",
    "regions = df_mpi['world_region'].dropna().unique()\n",
    "\n",
    "df_mpi_by_country"
   ],
   "metadata": {
    "collapsed": false,
    "pycharm": {
     "name": "#%%\n"
    }
   }
  },
  {
   "cell_type": "code",
   "execution_count": null,
   "outputs": [],
   "source": [
    "fig, ax = plt.subplots(figsize=(20,10))\n",
    "ax.set_title('Зависимость суммы займов от MPI, по странам', fontsize=24)\n",
    "colors = [plt.cm.tab10(i/float(len(regions)-1)) for i in range(len(regions))]\n",
    "for idx, region in enumerate(regions):\n",
    "    df_mpi_by_country[df_mpi_by_country.world_region == region]\\\n",
    "        .plot.scatter(x='loan_amount', y='MPI', color=colors[idx], ax=ax, label=region)\n",
    "ax.set_xlabel('Сумма займа', fontsize=22)\n",
    "ax.set_ylabel('MPI', fontsize=22)\n",
    "plt.show()\n"
   ],
   "metadata": {
    "collapsed": false,
    "pycharm": {
     "name": "#%%\n"
    }
   }
  },
  {
   "cell_type": "code",
   "execution_count": null,
   "outputs": [],
   "source": [
    "sns.jointplot(x='loan_amount', y='MPI', data=df_mpi_by_country, kind='reg', size=10)\\\n",
    "    .set_axis_labels('Сумма займа',\"MPI\", fontsize=20)\n",
    "plt.show()"
   ],
   "metadata": {
    "collapsed": false,
    "pycharm": {
     "name": "#%%\n"
    }
   }
  },
  {
   "cell_type": "code",
   "execution_count": null,
   "outputs": [],
   "source": [
    "fig, ax = plt.subplots(figsize=(20,10))\n",
    "ax.set_title('Зависимость срока займа от MPI, по странам', fontsize=24)\n",
    "colors = [plt.cm.tab10(i/float(len(regions)-1)) for i in range(len(regions))]\n",
    "for idx, region in enumerate(regions):\n",
    "    df_mpi_by_country[df_mpi_by_country.world_region == region]\\\n",
    "        .plot.scatter(x='term_in_months', y='MPI', color=colors[idx], ax=ax, label=region)\n",
    "ax.set_xlabel('Срок займа (в месяцах)', fontsize=22)\n",
    "ax.set_ylabel('MPI', fontsize=22)\n",
    "plt.show()"
   ],
   "metadata": {
    "collapsed": false,
    "pycharm": {
     "name": "#%%\n"
    }
   }
  },
  {
   "cell_type": "code",
   "execution_count": null,
   "outputs": [],
   "source": [
    "sns.jointplot(x='term_in_months', y='MPI', data=df_mpi_by_country, kind='reg', size=10)\\\n",
    "    .set_axis_labels('Срок займа',\"MPI\", fontsize=20)\n",
    "plt.show()"
   ],
   "metadata": {
    "collapsed": false,
    "pycharm": {
     "name": "#%%\n"
    }
   }
  },
  {
   "cell_type": "code",
   "execution_count": null,
   "outputs": [],
   "source": [
    "df_regions_median = df_loans_dates_trimmed.groupby(['world_region'])\\\n",
    "    .agg({'loan_amount' : 'median', 'time_funding' : 'median', 'term_in_months' : 'median'})\\\n",
    "    .reset_index()\n",
    "\n",
    "df_regions_median['monthly_repayment'] = df_regions_median['loan_amount'] / df_regions_median['term_in_months']"
   ],
   "metadata": {
    "collapsed": false,
    "pycharm": {
     "name": "#%%\n"
    }
   }
  },
  {
   "cell_type": "code",
   "execution_count": null,
   "outputs": [],
   "source": [
    "plt.figure(figsize=(10,8), dpi= 80)\n",
    "p = sns.pairplot(df_regions_median, kind=\"reg\", hue=\"world_region\")\n",
    "plt.show()"
   ],
   "metadata": {
    "collapsed": false,
    "pycharm": {
     "name": "#%%\n"
    }
   }
  }
 ]
}
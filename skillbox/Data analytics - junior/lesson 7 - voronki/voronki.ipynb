{
 "cells": [
  {
   "cell_type": "code",
   "execution_count": 21,
   "metadata": {
    "collapsed": true
   },
   "outputs": [],
   "source": [
    "import csv, datetime"
   ]
  },
  {
   "cell_type": "code",
   "execution_count": 26,
   "outputs": [
    {
     "name": "stdout",
     "output_type": "stream",
     "text": [
      "{'2015-02': 38872, '2015-03': 32154, '2015-01': 38733, '2015-04': 32323}\n"
     ]
    }
   ],
   "source": [
    "# name.csv ниже нужно заменить на название csv файла, который вы хотите открыть\n",
    "file_path = 'click_stream3.csv'\n",
    "with open(file_path, mode='r') as csv_file: # открываем файл\n",
    "    csv_reader = csv.DictReader(csv_file, fieldnames=['ID','page','date', 'device', 'gender']) # читаем файл\n",
    "\n",
    "    data = {}\n",
    "    for row in csv_reader: #перебираем по одной строчке нашего файла\n",
    "        page, month = list(row.items())[1][1], list(row.items())[2][1][:-3]\n",
    "        device, gender = list(row.items())[3][1], list(row.items())[4][1]\n",
    "\n",
    "        if month in data:\n",
    "            data[month] += 1\n",
    "        else:\n",
    "            data[month] = 1\n",
    "\n",
    "    print(data)"
   ],
   "metadata": {
    "collapsed": false,
    "pycharm": {
     "name": "#%%\n"
    }
   }
  }
 ],
 "metadata": {
  "kernelspec": {
   "display_name": "Python 3",
   "language": "python",
   "name": "python3"
  },
  "language_info": {
   "codemirror_mode": {
    "name": "ipython",
    "version": 2
   },
   "file_extension": ".py",
   "mimetype": "text/x-python",
   "name": "python",
   "nbconvert_exporter": "python",
   "pygments_lexer": "ipython2",
   "version": "2.7.6"
  }
 },
 "nbformat": 4,
 "nbformat_minor": 0
}
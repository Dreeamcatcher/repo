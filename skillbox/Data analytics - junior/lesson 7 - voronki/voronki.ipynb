{
 "cells": [
  {
   "cell_type": "code",
   "execution_count": 20,
   "metadata": {
    "collapsed": true,
    "pycharm": {
     "name": "#%%\n"
    }
   },
   "outputs": [],
   "source": [
    "import csv\n",
    "import pandas as pd"
   ]
  },
  {
   "cell_type": "code",
   "execution_count": 21,
   "outputs": [
    {
     "name": "stdout",
     "output_type": "stream",
     "text": [
      "{'2015-02': {'1_home_page': {'Mobile': {'Female': 3750, 'Male': 3799}, 'Desktop': {'Female': 7447, 'Male': 7600}}, '2_search_page': {'Desktop': {'Female': 3799, 'Male': 3831}, 'Mobile': {'Female': 3019, 'Male': 3035}}, '3_payment_page': {'Desktop': {'Female': 605, 'Male': 585}, 'Mobile': {'Male': 590, 'Female': 629}}, '4_payment_confirmation_page': {'Mobile': {'Male': 59, 'Female': 59}, 'Desktop': {'Female': 25, 'Male': 27}}}, '2015-03': {'1_home_page': {'Mobile': {'Male': 3812, 'Female': 3737}, 'Desktop': {'Male': 7536, 'Female': 7511}}, '2_search_page': {'Desktop': {'Female': 3707, 'Male': 3661}, 'Mobile': {'Male': 761, 'Female': 747}}, '3_payment_page': {'Desktop': {'Female': 162, 'Male': 132}, 'Mobile': {'Female': 174, 'Male': 160}}, '4_payment_confirmation_page': {'Desktop': {'Female': 5, 'Male': 8}, 'Mobile': {'Female': 18, 'Male': 10}}}, '2015-01': {'1_home_page': {'Desktop': {'Male': 7503, 'Female': 7545}, 'Mobile': {'Female': 3868, 'Male': 3680}}, '2_search_page': {'Desktop': {'Male': 3678, 'Female': 3850}, 'Mobile': {'Male': 2963, 'Female': 3060}}, '3_payment_page': {'Mobile': {'Female': 618, 'Male': 550}, 'Desktop': {'Female': 623, 'Male': 596}}, '4_payment_confirmation_page': {'Mobile': {'Female': 74, 'Male': 53}, 'Desktop': {'Female': 33, 'Male': 26}}}, '2015-04': {'1_home_page': {'Mobile': {'Male': 3829, 'Female': 3719}, 'Desktop': {'Male': 7557, 'Female': 7491}}, '2_search_page': {'Desktop': {'Female': 3732, 'Male': 3836}, 'Mobile': {'Male': 754, 'Female': 755}}, '3_payment_page': {'Desktop': {'Male': 163, 'Female': 138}, 'Mobile': {'Male': 146, 'Female': 147}}, '4_payment_confirmation_page': {'Desktop': {'Male': 12, 'Female': 8}, 'Mobile': {'Female': 10, 'Male': 13}}}}\n"
     ]
    }
   ],
   "source": [
    "# name.csv ниже нужно заменить на название csv файла, который вы хотите открыть\n",
    "file_path = 'click_stream3.csv'\n",
    "with open(file_path, mode='r') as csv_file: # открываем файл\n",
    "    csv_reader = csv.DictReader(csv_file, fieldnames=['ID','page','date', 'device', 'gender']) # читаем файл\n",
    "\n",
    "    data = {}\n",
    "    for row in csv_reader: #перебираем по одной строчке нашего файла\n",
    "        page, month = list(row.items())[1][1], list(row.items())[2][1][:-3]\n",
    "        device, gender = list(row.items())[3][1], list(row.items())[4][1]\n",
    "\n",
    "        if month in data:\n",
    "            if page in data[month]:\n",
    "                if device in data[month][page]:\n",
    "                    if gender in data[month][page][device]:\n",
    "                        data[month][page][device][gender] += 1\n",
    "                    else:\n",
    "                        data[month][page][device][gender] = 1\n",
    "                else:\n",
    "                    data[month][page][device] = {}\n",
    "            else:\n",
    "                data[month][page] = {}\n",
    "        else:\n",
    "            data[month] = {}\n",
    "\n",
    "    # print(data.keys())\n",
    "    print(data)"
   ],
   "metadata": {
    "collapsed": false,
    "pycharm": {
     "name": "#%%\n"
    }
   }
  },
  {
   "cell_type": "code",
   "execution_count": 22,
   "outputs": [
    {
     "data": {
      "text/plain": "                                                                       2015-02  \\\n1_home_page                  {'Mobile': {'Female': 3750, 'Male': 3799}, 'De...   \n2_search_page                {'Desktop': {'Female': 3799, 'Male': 3831}, 'M...   \n3_payment_page               {'Desktop': {'Female': 605, 'Male': 585}, 'Mob...   \n4_payment_confirmation_page  {'Mobile': {'Male': 59, 'Female': 59}, 'Deskto...   \n\n                                                                       2015-03  \\\n1_home_page                  {'Mobile': {'Male': 3812, 'Female': 3737}, 'De...   \n2_search_page                {'Desktop': {'Female': 3707, 'Male': 3661}, 'M...   \n3_payment_page               {'Desktop': {'Female': 162, 'Male': 132}, 'Mob...   \n4_payment_confirmation_page  {'Desktop': {'Female': 5, 'Male': 8}, 'Mobile'...   \n\n                                                                       2015-01  \\\n1_home_page                  {'Desktop': {'Male': 7503, 'Female': 7545}, 'M...   \n2_search_page                {'Desktop': {'Male': 3678, 'Female': 3850}, 'M...   \n3_payment_page               {'Mobile': {'Female': 618, 'Male': 550}, 'Desk...   \n4_payment_confirmation_page  {'Mobile': {'Female': 74, 'Male': 53}, 'Deskto...   \n\n                                                                       2015-04  \n1_home_page                  {'Mobile': {'Male': 3829, 'Female': 3719}, 'De...  \n2_search_page                {'Desktop': {'Female': 3732, 'Male': 3836}, 'M...  \n3_payment_page               {'Desktop': {'Male': 163, 'Female': 138}, 'Mob...  \n4_payment_confirmation_page  {'Desktop': {'Male': 12, 'Female': 8}, 'Mobile...  ",
      "text/html": "<div>\n<style scoped>\n    .dataframe tbody tr th:only-of-type {\n        vertical-align: middle;\n    }\n\n    .dataframe tbody tr th {\n        vertical-align: top;\n    }\n\n    .dataframe thead th {\n        text-align: right;\n    }\n</style>\n<table border=\"1\" class=\"dataframe\">\n  <thead>\n    <tr style=\"text-align: right;\">\n      <th></th>\n      <th>2015-02</th>\n      <th>2015-03</th>\n      <th>2015-01</th>\n      <th>2015-04</th>\n    </tr>\n  </thead>\n  <tbody>\n    <tr>\n      <th>1_home_page</th>\n      <td>{'Mobile': {'Female': 3750, 'Male': 3799}, 'De...</td>\n      <td>{'Mobile': {'Male': 3812, 'Female': 3737}, 'De...</td>\n      <td>{'Desktop': {'Male': 7503, 'Female': 7545}, 'M...</td>\n      <td>{'Mobile': {'Male': 3829, 'Female': 3719}, 'De...</td>\n    </tr>\n    <tr>\n      <th>2_search_page</th>\n      <td>{'Desktop': {'Female': 3799, 'Male': 3831}, 'M...</td>\n      <td>{'Desktop': {'Female': 3707, 'Male': 3661}, 'M...</td>\n      <td>{'Desktop': {'Male': 3678, 'Female': 3850}, 'M...</td>\n      <td>{'Desktop': {'Female': 3732, 'Male': 3836}, 'M...</td>\n    </tr>\n    <tr>\n      <th>3_payment_page</th>\n      <td>{'Desktop': {'Female': 605, 'Male': 585}, 'Mob...</td>\n      <td>{'Desktop': {'Female': 162, 'Male': 132}, 'Mob...</td>\n      <td>{'Mobile': {'Female': 618, 'Male': 550}, 'Desk...</td>\n      <td>{'Desktop': {'Male': 163, 'Female': 138}, 'Mob...</td>\n    </tr>\n    <tr>\n      <th>4_payment_confirmation_page</th>\n      <td>{'Mobile': {'Male': 59, 'Female': 59}, 'Deskto...</td>\n      <td>{'Desktop': {'Female': 5, 'Male': 8}, 'Mobile'...</td>\n      <td>{'Mobile': {'Female': 74, 'Male': 53}, 'Deskto...</td>\n      <td>{'Desktop': {'Male': 12, 'Female': 8}, 'Mobile...</td>\n    </tr>\n  </tbody>\n</table>\n</div>"
     },
     "execution_count": 22,
     "metadata": {},
     "output_type": "execute_result"
    }
   ],
   "source": [
    "df = pd.DataFrame(data)\n",
    "df"
   ],
   "metadata": {
    "collapsed": false,
    "pycharm": {
     "name": "#%%\n"
    }
   }
  },
  {
   "cell_type": "code",
   "execution_count": 46,
   "outputs": [
    {
     "name": "stdout",
     "output_type": "stream",
     "text": [
      "|2015-01|1_home_page|Desktop   42\n",
      "|2015-01|1_home_page|Desktop|Mobile   188\n",
      "|2_search_page|Desktop   172\n",
      "|2_search_page|Desktop|Mobile   97\n",
      "|3_payment_page|Mobile   68\n",
      "|3_payment_page|Mobile|Desktop   27\n",
      "|4_payment_confirmation_page|Mobile   21\n",
      "|4_payment_confirmation_page|Mobile|Desktop   7\n",
      "|2015-02|1_home_page|Mobile   -49\n",
      "|2015-02|1_home_page|Mobile|Desktop   -153\n",
      "|2_search_page|Desktop   -32\n",
      "|2_search_page|Desktop|Mobile   -16\n",
      "|3_payment_page|Desktop   20\n",
      "|3_payment_page|Desktop|Mobile   39\n",
      "|4_payment_confirmation_page|Mobile   0\n",
      "|4_payment_confirmation_page|Mobile|Desktop   -2\n",
      "|2015-03|1_home_page|Mobile   -75\n",
      "|2015-03|1_home_page|Mobile|Desktop   -25\n",
      "|2_search_page|Desktop   46\n",
      "|2_search_page|Desktop|Mobile   -14\n",
      "|3_payment_page|Desktop   30\n",
      "|3_payment_page|Desktop|Mobile   14\n",
      "|4_payment_confirmation_page|Desktop   -3\n",
      "|4_payment_confirmation_page|Desktop|Mobile   8\n",
      "|2015-04|1_home_page|Mobile   -110\n",
      "|2015-04|1_home_page|Mobile|Desktop   -66\n",
      "|2_search_page|Desktop   -104\n",
      "|2_search_page|Desktop|Mobile   1\n",
      "|3_payment_page|Desktop   -25\n",
      "|3_payment_page|Desktop|Mobile   1\n",
      "|4_payment_confirmation_page|Desktop   -4\n",
      "|4_payment_confirmation_page|Desktop|Mobile   -3\n"
     ]
    }
   ],
   "source": [
    "row = ''\n",
    "for month in sorted(data.keys()):\n",
    "    row += '|' + month\n",
    "    # print(month)\n",
    "    for page in data[month].keys():\n",
    "        row += '|' + page\n",
    "        # print(page)\n",
    "        for device in data[month][page]:\n",
    "            row += '|' + device\n",
    "            male, female = 0, 0\n",
    "            # print(device)\n",
    "            male = data[month][page][device]['Male']\n",
    "            female = data[month][page][device]['Female']\n",
    "            diff = female - male\n",
    "            print(row, ' ', diff)\n",
    "        row = ''"
   ],
   "metadata": {
    "collapsed": false,
    "pycharm": {
     "name": "#%%\n"
    }
   }
  }
 ],
 "metadata": {
  "kernelspec": {
   "display_name": "Python 3",
   "language": "python",
   "name": "python3"
  },
  "language_info": {
   "codemirror_mode": {
    "name": "ipython",
    "version": 2
   },
   "file_extension": ".py",
   "mimetype": "text/x-python",
   "name": "python",
   "nbconvert_exporter": "python",
   "pygments_lexer": "ipython2",
   "version": "2.7.6"
  }
 },
 "nbformat": 4,
 "nbformat_minor": 0
}
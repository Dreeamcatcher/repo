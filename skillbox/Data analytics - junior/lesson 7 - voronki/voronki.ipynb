{
 "cells": [
  {
   "cell_type": "code",
   "execution_count": 1,
   "metadata": {
    "collapsed": true
   },
   "outputs": [],
   "source": [
    "import csv"
   ]
  },
  {
   "cell_type": "code",
   "execution_count": 19,
   "outputs": [
    {
     "name": "stdout",
     "output_type": "stream",
     "text": [
      "{'1_home_page': 90400, '2_search_page': 45200, '3_payment_page': 6030, '4_payment_confirmation_page': 452}\n",
      "4_payment_confirmation_page\n"
     ]
    }
   ],
   "source": [
    "# name.csv ниже нужно заменить на название csv файла, который вы хотите открыть\n",
    "file_path = 'click_stream.csv'\n",
    "with open(file_path, mode='r') as csv_file: # открываем файл\n",
    "    csv_reader = csv.DictReader(csv_file, fieldnames=['ID','page','date']) # читаем файл\n",
    "\n",
    "    result_dict = {\n",
    "        '1_home_page' : 0,\n",
    "        '2_search_page' : 0,\n",
    "        '3_payment_page' : 0,\n",
    "        '4_payment_confirmation_page' : 0\n",
    "    }\n",
    "    for row in csv_reader: #перебираем по одной строчке нашего файла\n",
    "        page = list(row.items())[1][1] #так можно получить первый (не нулевой) элемент строки -\n",
    "        # для нашего датасета это строка, указывающая, на какой страничке было совершено действие\n",
    "        result_dict[page] += 1\n",
    "\n",
    "    print(result_dict)\n"
   ],
   "metadata": {
    "collapsed": false,
    "pycharm": {
     "name": "#%%\n"
    }
   }
  }
 ],
 "metadata": {
  "kernelspec": {
   "display_name": "Python 3",
   "language": "python",
   "name": "python3"
  },
  "language_info": {
   "codemirror_mode": {
    "name": "ipython",
    "version": 2
   },
   "file_extension": ".py",
   "mimetype": "text/x-python",
   "name": "python",
   "nbconvert_exporter": "python",
   "pygments_lexer": "ipython2",
   "version": "2.7.6"
  }
 },
 "nbformat": 4,
 "nbformat_minor": 0
}
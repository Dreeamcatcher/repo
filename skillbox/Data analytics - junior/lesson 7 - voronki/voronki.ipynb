{
 "cells": [
  {
   "cell_type": "code",
   "execution_count": 16,
   "metadata": {
    "collapsed": true,
    "pycharm": {
     "name": "#%%\n"
    }
   },
   "outputs": [],
   "source": [
    "import csv\n",
    "import pandas as pd"
   ]
  },
  {
   "cell_type": "code",
   "execution_count": 17,
   "outputs": [],
   "source": [
    "# считываем данные \n",
    "file_path = 'click_stream3.csv'\n",
    "with open(file_path, mode='r') as csv_file: # открываем файл\n",
    "    csv_reader = csv.DictReader(csv_file, fieldnames=['ID','page','date', 'device', 'gender']) # читаем файл\n",
    "\n",
    "    data = {}\n",
    "    for row in csv_reader: #перебираем по одной строчке нашего файла\n",
    "        page, month = list(row.items())[1][1], list(row.items())[2][1][:-3]\n",
    "        device, gender = list(row.items())[3][1], list(row.items())[4][1]\n",
    "\n",
    "        if month in data:\n",
    "            if page in data[month]:\n",
    "                if device in data[month][page]:\n",
    "                    if gender in data[month][page][device]:\n",
    "                        data[month][page][device][gender] += 1\n",
    "                    else:\n",
    "                        data[month][page][device][gender] = 1\n",
    "                else:\n",
    "                    data[month][page][device] = {}\n",
    "            else:\n",
    "                data[month][page] = {}\n",
    "        else:\n",
    "            data[month] = {}"
   ],
   "metadata": {
    "collapsed": false,
    "pycharm": {
     "name": "#%%\n"
    }
   }
  },
  {
   "cell_type": "code",
   "execution_count": 18,
   "outputs": [
    {
     "name": "stdout",
     "output_type": "stream",
     "text": [
      "==================================2015-01========================================\n",
      "|1|Desktop 7545 - 7503   =  42\n",
      "                                            |1|Mobile 3868 - 3680   =  188\n",
      "|2|Desktop 3850 - 3678   =  172\n",
      "                                            |2|Mobile 3060 - 2963   =  97\n",
      "|3|Desktop 623 - 596   =  27\n",
      "                                            |3|Mobile 618 - 550   =  68\n",
      "|4|Desktop 33 - 26   =  7\n",
      "                                            |4|Mobile 74 - 53   =  21\n",
      "==================================2015-02========================================\n",
      "|1|Desktop 7447 - 7600   =  -153\n",
      "                                            |1|Mobile 3750 - 3799   =  -49\n",
      "|2|Desktop 3799 - 3831   =  -32\n",
      "                                            |2|Mobile 3019 - 3035   =  -16\n",
      "|3|Desktop 605 - 585   =  20\n",
      "                                            |3|Mobile 629 - 590   =  39\n",
      "|4|Desktop 25 - 27   =  -2\n",
      "                                            |4|Mobile 59 - 59   =  0\n",
      "==================================2015-03========================================\n",
      "|1|Desktop 7511 - 7536   =  -25\n",
      "                                            |1|Mobile 3737 - 3812   =  -75\n",
      "|2|Desktop 3707 - 3661   =  46\n",
      "                                            |2|Mobile 747 - 761   =  -14\n",
      "|3|Desktop 162 - 132   =  30\n",
      "                                            |3|Mobile 174 - 160   =  14\n",
      "|4|Desktop 5 - 8   =  -3\n",
      "                                            |4|Mobile 18 - 10   =  8\n",
      "==================================2015-04========================================\n",
      "|1|Desktop 7491 - 7557   =  -66\n",
      "                                            |1|Mobile 3719 - 3829   =  -110\n",
      "|2|Desktop 3732 - 3836   =  -104\n",
      "                                            |2|Mobile 755 - 754   =  1\n",
      "|3|Desktop 138 - 163   =  -25\n",
      "                                            |3|Mobile 147 - 146   =  1\n",
      "|4|Desktop 8 - 12   =  -4\n",
      "                                            |4|Mobile 10 - 13   =  -3\n"
     ]
    }
   ],
   "source": [
    "# Формируем более удобный для анализа вывод\n",
    "row = ''\n",
    "for month in sorted(data.keys()):\n",
    "    print('==================================%s========================================'%(month))\n",
    "    for page in sorted(data[month].keys()):\n",
    "        row += '|' + page[0]\n",
    "        for idx, device in enumerate(sorted(data[month][page])):\n",
    "            if idx%2 : row = '                                            ' + row\n",
    "            male, female = 0, 0\n",
    "            male = data[month][page][device]['Male']\n",
    "            female = data[month][page][device]['Female']\n",
    "            diff = female - male\n",
    "            print(row + '|' + device[:],  female, '-', male, '  = ', diff)\n",
    "        row = ''"
   ],
   "metadata": {
    "collapsed": false,
    "pycharm": {
     "name": "#%%\n"
    }
   }
  },
  {
   "cell_type": "markdown",
   "source": [
    "# Вывод:\n",
    "Изучив полученные данные можно сказать, что пол посетителя незначительно меняет картину.\n",
    "Серьезных аномалий, кроме показанных в мастер-классе, найдено не было.\n",
    "\n",
    "В среднем мужчины и женщины в равной степени интересуются сайтом.\n",
    "Однако можно отметить, что начиная с февраля, мужчин посетивших сайт стало немного больше чем женщин,\n",
    "на обоих устройствах.\n",
    "Возможно это связано с сезонностью некоторых продаваемых на сайте товаров.\n",
    "\n",
    "Кроме того, я хотел бы отметить, что в первые два месяца (до сбоев), на мобильных устройствах конверсия с главной страницы\n",
    " на страницу поиска была очень высокой - почти 80%. В то время как на десктопе всего 50%.\n",
    "Думаю стоит передать разработчикам информацию, что также нужно поработать над главной страницей на десктопе."
   ],
   "metadata": {
    "collapsed": false,
    "pycharm": {
     "name": "#%% md\n"
    }
   }
  }
 ],
 "metadata": {
  "kernelspec": {
   "name": "python3",
   "language": "python",
   "display_name": "Python 3"
  },
  "language_info": {
   "codemirror_mode": {
    "name": "ipython",
    "version": 2
   },
   "file_extension": ".py",
   "mimetype": "text/x-python",
   "name": "python",
   "nbconvert_exporter": "python",
   "pygments_lexer": "ipython2",
   "version": "3.7.3-final"
  }
 },
 "nbformat": 4,
 "nbformat_minor": 0
}
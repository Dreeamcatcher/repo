{
 "cells": [
  {
   "cell_type": "markdown",
   "metadata": {},
   "source": [
    "# Курсовая работа. Блок 1\n",
    "*Pandas и Matplotlib*\n",
    "\n",
    "**NB!** Код должен быть с комментариями к каждому логическому блоку кода. В противном случае работа **не** будет принята. <br><br>\n",
    "Выполнение курсовой работы может потребовать использование дополнительных библиотек. \n",
    "\n",
    "<br><br>\n",
    "**Описание работы:**\n",
    "\n",
    "Перед вами стоит бизнес-задача – на основании имеющихся данных подготовить аналитический отчет, который в дальнейшем поможет продюсерам образовательных программ эффективно выстраивать стратегию по модернизированию и улучшению курсов. В начале отчета предлагается оформить емкий описательный блок по каждому курсу на основании рассчитанных показателей. Далее предлагается посчитать потенциальную нагрузку на преподавателей, чтобы оценить необходимость расширения штата сотрудников. Затем идет блок из двух пунктов по анализу качества контента курсов, где необходимо выявить проблемные модули, которые, возможно, требуют доработки. Также стоит задача выявить потенциальную сезонность. Наконец, предложено задание для самостоятельной разработки метрики успеваемости студентов для нахождения тех, кто значительно хуже справляются с прохождением курса. Каждый из пунктов анализа предполагается сопроводить аналитическим выводом на основании рассчитанных метрик.\n",
    "\n",
    "<br><br>\n",
    "\n",
    "_________\n",
    "Обозначения:<br><br>\n",
    "&nbsp;&nbsp;&nbsp;&nbsp;**(p)** – задание может быть выполнено после прохождения модулей по Pandas <br>\n",
    "&nbsp;&nbsp;&nbsp;&nbsp;**(m)** – задание может быть выполнено после прохождения модуля по Matplotlib <br>\n",
    "&nbsp;&nbsp;&nbsp;&nbsp;⭐ – необязательное задание повышенной сложности\n",
    "_________\n",
    "\n",
    "[Codebook](#Codebook) <br>\n",
    "[1. Описание и начальная работа с данными](#1.1-Описание-и-начальная-работа-с-данными)<br>\n",
    "[2. Расчет потенциальной нагрузки на преподавателей](#2.-Расчет-потенциальной-нагрузки-на-преподавателей)<br>\n",
    "[3. Выявление проблемных модулей](#3.-Выявление-проблемных-модулей)<br>\n",
    "[4. Расчет конверсии](#4.-Расчет-конверсии) <br>\n",
    "[5. Метрика успеваемости ](#5.-Метрика-успеваемости)"
   ]
  },
  {
   "cell_type": "markdown",
   "metadata": {},
   "source": [
    "## Codebook\n",
    "\n",
    "`courses.csv` содержит следующие значения: <br><br>\n",
    "&nbsp;&nbsp;&nbsp;&nbsp; `id` – идентификатор курса <br>\n",
    "&nbsp;&nbsp;&nbsp;&nbsp; `title` – название курса <br>\n",
    "&nbsp;&nbsp;&nbsp;&nbsp;  `field` – сфера, к которой относится курс <br> <br><br>\n",
    "`students.csv` содержит следующие значения: <br><br>\n",
    "&nbsp;&nbsp;&nbsp;&nbsp; `id` – идентификатор студента <br>\n",
    "&nbsp;&nbsp;&nbsp;&nbsp; `city` – город студента <br>\n",
    "&nbsp;&nbsp;&nbsp;&nbsp;  `birthday` – день рождения студента <br> <br><br>\n",
    "`course_contents.csv` содержит следующие значения: <br><br>\n",
    "&nbsp;&nbsp;&nbsp;&nbsp; `course_id` – идентификатор курса <br>\n",
    "&nbsp;&nbsp;&nbsp;&nbsp; `module_number` – номер модуля <br>\n",
    "&nbsp;&nbsp;&nbsp;&nbsp;  `module_title` – название модуля <br> \n",
    "&nbsp;&nbsp;&nbsp;&nbsp; `lesson_number` – номер урока <br>\n",
    "&nbsp;&nbsp;&nbsp;&nbsp;  `lesson_title` – название урока <br>\n",
    "&nbsp;&nbsp;&nbsp;&nbsp;  `lesson_token` – токен урока <br> \n",
    "&nbsp;&nbsp;&nbsp;&nbsp; `is_video` – наличие видео *(true/false)* <br>\n",
    "&nbsp;&nbsp;&nbsp;&nbsp;  `is_homework` – наличие домашней работы *(true/false)* <br>\n",
    "<br><br>\n",
    "`progresses.csv` содержит следующие значения: <br><br>\n",
    "&nbsp;&nbsp;&nbsp;&nbsp; `id` – идентификатор прогресса <br>\n",
    "&nbsp;&nbsp;&nbsp;&nbsp; `student_id` – идентификатор студента <br>\n",
    "&nbsp;&nbsp;&nbsp;&nbsp;  `course_id` – идентификатор курса <br> <br><br>\n",
    "`progress_phases.csv` содержит следующие значения: <br><br>\n",
    "&nbsp;&nbsp;&nbsp;&nbsp; `progress_id` – идентификатор прогресса <br>\n",
    "&nbsp;&nbsp;&nbsp;&nbsp; `module_number` – номер модуля <br>\n",
    "&nbsp;&nbsp;&nbsp;&nbsp; `lesson_number` – номер урока <br>\n",
    "&nbsp;&nbsp;&nbsp;&nbsp;  `status` – статус прохождения урока <br>\n",
    "&nbsp;&nbsp;&nbsp;&nbsp;  `start_date` – дата начала <br> \n",
    "&nbsp;&nbsp;&nbsp;&nbsp; `finish_date` – дата окончания <br>\n",
    "<br><br>"
   ]
  },
  {
   "cell_type": "markdown",
   "metadata": {},
   "source": [
    "## 1. Описание и начальная работа с данными\n",
    "\n",
    "Вам необходимо подготовить данные и описать их. Данные реальные и содержат пропущенные значения, а также лишние относительно друг друга данные. <br>\n",
    "\n",
    "Объедините датасеты (кроме `students.scv`) в один общий для дальнейшей работы. Отдельный датасет создайте для расчета среднего возраста студентов курсов (отдельный датасет со `students.scv` нужен, чтобы в основном не потерять значения в основном датасете из-за того, что не по всем студентам есть анкетные данные о дате рождения). <br> <br>\n",
    "Опишите данные: <br>\n",
    "1. **(p)** Посчитайте\n",
    "      * общее количество курсов в датасете, \n",
    "      * количество модулей на каждом курсе, \n",
    "      * количество уроков в каждом модуле на каждом курсе, \n",
    "      * медианное количество уроков в модуле на каждом курсе, \n",
    "      * количество учеников на каждом курсе\n",
    "      * минимальный, максимальный, средний, медианный возраст студентов\n",
    "      * минимальный, максимальный, средний, медианный возраст студентов на каждом курсе\n",
    "2. **(m)** Постройте bar-chart, отражающий количество студентов на каждом курсе. Ticks нужно развернуть так, чтобы они были читаемы\n",
    "3. **(m)** Постройте горизонтальный (столбцы должны располагаться горизонтально) bar-chart, отражающий количество студентов на каждом курсе. График должен иметь заголовок. Значения должны быть отсортированы. Цвет столбцов должен содержать информацию о сфере, к которой относится курс (то есть нужна легенда). Прозрачность должна стоять на отметке 0.1. На график должна быть нанесена линия медианы. У медианы должен быть свой цвет. Рамки у графика быть не должно ⭐\n",
    "4.     На основании рассчитанных значений опишите данные (описание должно быть полным и покрывать все полученные выше метрики)\n",
    "\n",
    "_____________________________________________________________________\n"
   ]
  },
  {
   "cell_type": "markdown",
   "metadata": {},
   "source": [
    "Для того, чтобы проверить, что вы правильно соединили все датасеты в основной (без `students.csv`), запустите аналогичный приведенному ниже запрос. Выдача должна совпадать. Имейте в виду, что названия некоторых столбцов были переименованы."
   ]
  },
  {
   "cell_type": "code",
   "execution_count": 31,
   "metadata": {
    "pycharm": {
     "is_executing": false
    }
   },
   "outputs": [
    {
     "data": {
      "text/plain": "                             progress_id  module_number  lesson_number status  \\\n0       a387ab916f402cb3fbfffd29f68fd0ce              2              4   done   \n1       a387ab916f402cb3fbfffd29f68fd0ce              1              1   done   \n2       a387ab916f402cb3fbfffd29f68fd0ce              2              2   done   \n3       a387ab916f402cb3fbfffd29f68fd0ce              1              4   done   \n4       a387ab916f402cb3fbfffd29f68fd0ce              1              6   done   \n5       a387ab916f402cb3fbfffd29f68fd0ce              2              1   done   \n6       a387ab916f402cb3fbfffd29f68fd0ce              1              3   done   \n7       a387ab916f402cb3fbfffd29f68fd0ce              2              5  start   \n8       a387ab916f402cb3fbfffd29f68fd0ce              1              2   done   \n9       a387ab916f402cb3fbfffd29f68fd0ce              1              5   done   \n10      a387ab916f402cb3fbfffd29f68fd0ce              2              3   done   \n112420  6407c290505e790e92207a1dbc41a2cd              1              1  start   \n132870  5767046d89ed7563a0c3a9a3896a23e6              1              3   done   \n132871  5767046d89ed7563a0c3a9a3896a23e6              2              2   done   \n132872  5767046d89ed7563a0c3a9a3896a23e6              1              1   done   \n132873  5767046d89ed7563a0c3a9a3896a23e6              1              2   done   \n132874  5767046d89ed7563a0c3a9a3896a23e6              2              1   done   \n132875  5767046d89ed7563a0c3a9a3896a23e6              2              3   fail   \n155020  c90ebe1431eac5cbb11692100b7a0f8d              1              3   done   \n155021  c90ebe1431eac5cbb11692100b7a0f8d              1              1   done   \n155022  c90ebe1431eac5cbb11692100b7a0f8d              1              7  start   \n155023  c90ebe1431eac5cbb11692100b7a0f8d              1              5   done   \n155024  c90ebe1431eac5cbb11692100b7a0f8d              1              6   done   \n155025  c90ebe1431eac5cbb11692100b7a0f8d              1              4   done   \n155026  c90ebe1431eac5cbb11692100b7a0f8d              1              2   done   \n\n                           start_date                    finish_date  \\\n0       2018-06-23 08:28:50.681065+00  2018-06-23 08:28:52.439542+00   \n1       2018-06-20 14:25:21.783762+00  2018-06-20 15:45:07.717209+00   \n2       2018-06-23 08:18:09.653771+00  2018-06-23 08:18:12.784616+00   \n3        2018-06-20 16:00:06.36178+00  2018-06-21 19:09:30.845034+00   \n4       2018-06-21 19:10:36.957891+00  2018-06-28 15:59:25.320418+00   \n5       2018-06-23 08:18:07.476199+00  2018-06-23 08:18:09.552181+00   \n6       2018-06-20 15:58:22.132468+00  2018-06-20 16:00:06.127191+00   \n7       2018-06-23 08:31:00.338883+00                            NaN   \n8       2018-06-20 15:45:07.976223+00  2018-06-20 15:58:21.886722+00   \n9       2018-06-21 19:09:31.117521+00  2018-06-21 19:10:36.707919+00   \n10      2018-06-23 08:18:12.890698+00  2018-06-23 08:28:50.564437+00   \n112420  2018-06-20 14:25:13.010259+00                            NaN   \n132870  2018-02-19 12:32:35.928905+00  2018-02-20 09:16:36.741375+00   \n132871  2018-02-22 08:57:31.008346+00  2018-04-28 13:45:40.708228+00   \n132872         2018-01-13 15:20:23+00         2018-01-13 15:20:23+00   \n132873         2018-01-13 15:20:23+00         2018-01-14 13:47:25+00   \n132874  2018-02-22 08:54:10.987784+00  2018-02-22 08:57:30.914939+00   \n132875  2018-04-28 13:45:40.955076+00                            NaN   \n155020  2018-06-19 15:08:14.103923+00  2018-06-19 15:39:53.661163+00   \n155021  2018-06-19 10:40:05.063485+00  2018-06-19 14:56:16.346353+00   \n155022  2018-06-19 18:40:00.576904+00                            NaN   \n155023  2018-06-19 18:10:52.316728+00  2018-06-19 18:35:38.720317+00   \n155024  2018-06-19 18:35:38.884217+00  2018-06-19 18:37:11.155066+00   \n155025  2018-06-19 15:39:53.923777+00    2018-06-19 18:10:52.1737+00   \n155026  2018-06-19 14:56:16.570129+00  2018-06-19 15:08:13.930725+00   \n\n                              student_id                         course_id  \\\n0       768c2987a744c51ce64a5993a2a94eaf  c9fcb746d51e41bc5a217002d081454b   \n1       768c2987a744c51ce64a5993a2a94eaf  c9fcb746d51e41bc5a217002d081454b   \n2       768c2987a744c51ce64a5993a2a94eaf  c9fcb746d51e41bc5a217002d081454b   \n3       768c2987a744c51ce64a5993a2a94eaf  c9fcb746d51e41bc5a217002d081454b   \n4       768c2987a744c51ce64a5993a2a94eaf  c9fcb746d51e41bc5a217002d081454b   \n5       768c2987a744c51ce64a5993a2a94eaf  c9fcb746d51e41bc5a217002d081454b   \n6       768c2987a744c51ce64a5993a2a94eaf  c9fcb746d51e41bc5a217002d081454b   \n7       768c2987a744c51ce64a5993a2a94eaf  c9fcb746d51e41bc5a217002d081454b   \n8       768c2987a744c51ce64a5993a2a94eaf  c9fcb746d51e41bc5a217002d081454b   \n9       768c2987a744c51ce64a5993a2a94eaf  c9fcb746d51e41bc5a217002d081454b   \n10      768c2987a744c51ce64a5993a2a94eaf  c9fcb746d51e41bc5a217002d081454b   \n112420  768c2987a744c51ce64a5993a2a94eaf  dad6f6ffc086caa89e2f40c28a9c7490   \n132870  768c2987a744c51ce64a5993a2a94eaf  04ba6d0b40670c43a209141fa01fa784   \n132871  768c2987a744c51ce64a5993a2a94eaf  04ba6d0b40670c43a209141fa01fa784   \n132872  768c2987a744c51ce64a5993a2a94eaf  04ba6d0b40670c43a209141fa01fa784   \n132873  768c2987a744c51ce64a5993a2a94eaf  04ba6d0b40670c43a209141fa01fa784   \n132874  768c2987a744c51ce64a5993a2a94eaf  04ba6d0b40670c43a209141fa01fa784   \n132875  768c2987a744c51ce64a5993a2a94eaf  04ba6d0b40670c43a209141fa01fa784   \n155020  768c2987a744c51ce64a5993a2a94eaf  e9bb9205eeed307ee7cbaa08bfd166c3   \n155021  768c2987a744c51ce64a5993a2a94eaf  e9bb9205eeed307ee7cbaa08bfd166c3   \n155022  768c2987a744c51ce64a5993a2a94eaf  e9bb9205eeed307ee7cbaa08bfd166c3   \n155023  768c2987a744c51ce64a5993a2a94eaf  e9bb9205eeed307ee7cbaa08bfd166c3   \n155024  768c2987a744c51ce64a5993a2a94eaf  e9bb9205eeed307ee7cbaa08bfd166c3   \n155025  768c2987a744c51ce64a5993a2a94eaf  e9bb9205eeed307ee7cbaa08bfd166c3   \n155026  768c2987a744c51ce64a5993a2a94eaf  e9bb9205eeed307ee7cbaa08bfd166c3   \n\n                                             module_title  \\\n0                                   Концептуальный дизайн   \n1                 Специализация и личное позиционирование   \n2                                   Концептуальный дизайн   \n3                 Специализация и личное позиционирование   \n4                 Специализация и личное позиционирование   \n5                                   Концептуальный дизайн   \n6                 Специализация и личное позиционирование   \n7                                   Концептуальный дизайн   \n8                 Специализация и личное позиционирование   \n9                 Специализация и личное позиционирование   \n10                                  Концептуальный дизайн   \n112420       Профессия дизайнера в эпоху цифровых перемен   \n132870  Введение в Motion Design. Тренды, разновидност...   \n132871        12 принципов анимации от Walt Disney Studio   \n132872  Введение в Motion Design. Тренды, разновидност...   \n132873  Введение в Motion Design. Тренды, разновидност...   \n132874        12 принципов анимации от Walt Disney Studio   \n132875        12 принципов анимации от Walt Disney Studio   \n155020                                Знакомство с языком   \n155021                                Знакомство с языком   \n155022                                Знакомство с языком   \n155023                                Знакомство с языком   \n155024                                Знакомство с языком   \n155025                                Знакомство с языком   \n155026                                Знакомство с языком   \n\n                                             lesson_title  \\\n0                                       Практика — мокапы   \n1                                             Интро курса   \n2                         Что такое концептуальный дизайн   \n3                                 Личное позиционирование   \n4                                         Домашняя работа   \n5                                    Брифинг от заказчика   \n6                                     Домашнее задание #1   \n7                                         Домашняя работа   \n8                                           Специализация   \n9                                     Домашнее задание #2   \n10                            Практика — дизайн-концепция   \n112420                                        Приветствие   \n132870                                    Домашняя работа   \n132871                              12 принципов анимации   \n132872                                         Знакомство   \n132873  Введение в Motion Design. Тренды, разновидност...   \n132874                                              Интро   \n132875                                    Домашняя работа   \n155020                           Инструменты разработчика   \n155021                                              Интро   \n155022                                    Домашняя работа   \n155023                                    Синтаксис языка   \n155024                                              Аутро   \n155025                                      Hello, world!   \n155026    Что умеет JavaScript и почему он так популярен?   \n\n                                lesson_token  is_video  is_homework  \\\n0       7df8adef-1259-4b72-9bf2-353c73389d06      True        False   \n1       df1a1f20-cdf7-443d-b25b-0a4b990b84d9      True        False   \n2       f23b1890-9365-406f-816b-04864cefe58f      True        False   \n3       9dd50916-4aa6-4a73-b86c-56a1bd7753c8      True        False   \n4       43e1fbdd-1ee9-4ed5-a577-4dadd80c02b3     False         True   \n5       a25caa09-95d0-4e0c-b3c0-ad15f23bead8      True        False   \n6       a3d74174-08be-4634-949a-108d4f915fa6      True        False   \n7       90c5f618-e9f3-4af8-96ab-f41b312bfa77     False         True   \n8       558acc64-3867-4ada-ac6f-36e9a7922f68      True        False   \n9       7ea421f0-04b5-4df8-a76c-03e24692eba9      True        False   \n10      beb5abe6-b101-4003-a5ed-a87add92210a      True        False   \n112420  86d0d49c-5590-4c0b-8fca-927191bb3fd5      True        False   \n132870  c4377574-d117-45c7-8da5-dd7d1923517d     False         True   \n132871  7eea2930-11db-45c9-a16c-0d800b6dc99d      True        False   \n132872  aa344de3-1191-4e69-b485-61823118f71c      True        False   \n132873  246c8429-dd18-4f3a-a9fb-d3c07e7d6912      True        False   \n132874  7ea16a2d-e6d1-4158-907f-ae0ce8379c45      True        False   \n132875  f6f37ada-7763-4a06-9e45-a42ca568e69a     False         True   \n155020  460c54ea-d899-44d3-8940-00302ff5f2e5      True        False   \n155021  0d4678b0-abfe-4132-9193-97f9b0f08d3a      True        False   \n155022  af6e818e-08f0-4e32-981e-95a35395ee8f     False         True   \n155023  fe10ef7f-44cb-4184-b06f-d7c38b0e81a5      True        False   \n155024  efe6a65b-a9a2-4d3a-910a-750e72c3f118      True        False   \n155025  73315f69-8587-4f46-ab6b-fe57c8f1aa52      True        False   \n155026  6af5b93a-593b-48a0-bb03-42fa2571ede5      True        False   \n\n                course_title course_field  \n0         Веб-дизайн PRO 2.0       Design  \n1         Веб-дизайн PRO 2.0       Design  \n2         Веб-дизайн PRO 2.0       Design  \n3         Веб-дизайн PRO 2.0       Design  \n4         Веб-дизайн PRO 2.0       Design  \n5         Веб-дизайн PRO 2.0       Design  \n6         Веб-дизайн PRO 2.0       Design  \n7         Веб-дизайн PRO 2.0       Design  \n8         Веб-дизайн PRO 2.0       Design  \n9         Веб-дизайн PRO 2.0       Design  \n10        Веб-дизайн PRO 2.0       Design  \n112420             UX-дизайн       Design  \n132870  Анимация интерфейсов       Design  \n132871  Анимация интерфейсов       Design  \n132872  Анимация интерфейсов       Design  \n132873  Анимация интерфейсов       Design  \n132874  Анимация интерфейсов       Design  \n132875  Анимация интерфейсов       Design  \n155020     JavaScript с нуля  Development  \n155021     JavaScript с нуля  Development  \n155022     JavaScript с нуля  Development  \n155023     JavaScript с нуля  Development  \n155024     JavaScript с нуля  Development  \n155025     JavaScript с нуля  Development  \n155026     JavaScript с нуля  Development  ",
      "text/html": "<div>\n<style scoped>\n    .dataframe tbody tr th:only-of-type {\n        vertical-align: middle;\n    }\n\n    .dataframe tbody tr th {\n        vertical-align: top;\n    }\n\n    .dataframe thead th {\n        text-align: right;\n    }\n</style>\n<table border=\"1\" class=\"dataframe\">\n  <thead>\n    <tr style=\"text-align: right;\">\n      <th></th>\n      <th>progress_id</th>\n      <th>module_number</th>\n      <th>lesson_number</th>\n      <th>status</th>\n      <th>start_date</th>\n      <th>finish_date</th>\n      <th>student_id</th>\n      <th>course_id</th>\n      <th>module_title</th>\n      <th>lesson_title</th>\n      <th>lesson_token</th>\n      <th>is_video</th>\n      <th>is_homework</th>\n      <th>course_title</th>\n      <th>course_field</th>\n    </tr>\n  </thead>\n  <tbody>\n    <tr>\n      <th>0</th>\n      <td>a387ab916f402cb3fbfffd29f68fd0ce</td>\n      <td>2</td>\n      <td>4</td>\n      <td>done</td>\n      <td>2018-06-23 08:28:50.681065+00</td>\n      <td>2018-06-23 08:28:52.439542+00</td>\n      <td>768c2987a744c51ce64a5993a2a94eaf</td>\n      <td>c9fcb746d51e41bc5a217002d081454b</td>\n      <td>Концептуальный дизайн</td>\n      <td>Практика — мокапы</td>\n      <td>7df8adef-1259-4b72-9bf2-353c73389d06</td>\n      <td>True</td>\n      <td>False</td>\n      <td>Веб-дизайн PRO 2.0</td>\n      <td>Design</td>\n    </tr>\n    <tr>\n      <th>1</th>\n      <td>a387ab916f402cb3fbfffd29f68fd0ce</td>\n      <td>1</td>\n      <td>1</td>\n      <td>done</td>\n      <td>2018-06-20 14:25:21.783762+00</td>\n      <td>2018-06-20 15:45:07.717209+00</td>\n      <td>768c2987a744c51ce64a5993a2a94eaf</td>\n      <td>c9fcb746d51e41bc5a217002d081454b</td>\n      <td>Специализация и личное позиционирование</td>\n      <td>Интро курса</td>\n      <td>df1a1f20-cdf7-443d-b25b-0a4b990b84d9</td>\n      <td>True</td>\n      <td>False</td>\n      <td>Веб-дизайн PRO 2.0</td>\n      <td>Design</td>\n    </tr>\n    <tr>\n      <th>2</th>\n      <td>a387ab916f402cb3fbfffd29f68fd0ce</td>\n      <td>2</td>\n      <td>2</td>\n      <td>done</td>\n      <td>2018-06-23 08:18:09.653771+00</td>\n      <td>2018-06-23 08:18:12.784616+00</td>\n      <td>768c2987a744c51ce64a5993a2a94eaf</td>\n      <td>c9fcb746d51e41bc5a217002d081454b</td>\n      <td>Концептуальный дизайн</td>\n      <td>Что такое концептуальный дизайн</td>\n      <td>f23b1890-9365-406f-816b-04864cefe58f</td>\n      <td>True</td>\n      <td>False</td>\n      <td>Веб-дизайн PRO 2.0</td>\n      <td>Design</td>\n    </tr>\n    <tr>\n      <th>3</th>\n      <td>a387ab916f402cb3fbfffd29f68fd0ce</td>\n      <td>1</td>\n      <td>4</td>\n      <td>done</td>\n      <td>2018-06-20 16:00:06.36178+00</td>\n      <td>2018-06-21 19:09:30.845034+00</td>\n      <td>768c2987a744c51ce64a5993a2a94eaf</td>\n      <td>c9fcb746d51e41bc5a217002d081454b</td>\n      <td>Специализация и личное позиционирование</td>\n      <td>Личное позиционирование</td>\n      <td>9dd50916-4aa6-4a73-b86c-56a1bd7753c8</td>\n      <td>True</td>\n      <td>False</td>\n      <td>Веб-дизайн PRO 2.0</td>\n      <td>Design</td>\n    </tr>\n    <tr>\n      <th>4</th>\n      <td>a387ab916f402cb3fbfffd29f68fd0ce</td>\n      <td>1</td>\n      <td>6</td>\n      <td>done</td>\n      <td>2018-06-21 19:10:36.957891+00</td>\n      <td>2018-06-28 15:59:25.320418+00</td>\n      <td>768c2987a744c51ce64a5993a2a94eaf</td>\n      <td>c9fcb746d51e41bc5a217002d081454b</td>\n      <td>Специализация и личное позиционирование</td>\n      <td>Домашняя работа</td>\n      <td>43e1fbdd-1ee9-4ed5-a577-4dadd80c02b3</td>\n      <td>False</td>\n      <td>True</td>\n      <td>Веб-дизайн PRO 2.0</td>\n      <td>Design</td>\n    </tr>\n    <tr>\n      <th>5</th>\n      <td>a387ab916f402cb3fbfffd29f68fd0ce</td>\n      <td>2</td>\n      <td>1</td>\n      <td>done</td>\n      <td>2018-06-23 08:18:07.476199+00</td>\n      <td>2018-06-23 08:18:09.552181+00</td>\n      <td>768c2987a744c51ce64a5993a2a94eaf</td>\n      <td>c9fcb746d51e41bc5a217002d081454b</td>\n      <td>Концептуальный дизайн</td>\n      <td>Брифинг от заказчика</td>\n      <td>a25caa09-95d0-4e0c-b3c0-ad15f23bead8</td>\n      <td>True</td>\n      <td>False</td>\n      <td>Веб-дизайн PRO 2.0</td>\n      <td>Design</td>\n    </tr>\n    <tr>\n      <th>6</th>\n      <td>a387ab916f402cb3fbfffd29f68fd0ce</td>\n      <td>1</td>\n      <td>3</td>\n      <td>done</td>\n      <td>2018-06-20 15:58:22.132468+00</td>\n      <td>2018-06-20 16:00:06.127191+00</td>\n      <td>768c2987a744c51ce64a5993a2a94eaf</td>\n      <td>c9fcb746d51e41bc5a217002d081454b</td>\n      <td>Специализация и личное позиционирование</td>\n      <td>Домашнее задание #1</td>\n      <td>a3d74174-08be-4634-949a-108d4f915fa6</td>\n      <td>True</td>\n      <td>False</td>\n      <td>Веб-дизайн PRO 2.0</td>\n      <td>Design</td>\n    </tr>\n    <tr>\n      <th>7</th>\n      <td>a387ab916f402cb3fbfffd29f68fd0ce</td>\n      <td>2</td>\n      <td>5</td>\n      <td>start</td>\n      <td>2018-06-23 08:31:00.338883+00</td>\n      <td>NaN</td>\n      <td>768c2987a744c51ce64a5993a2a94eaf</td>\n      <td>c9fcb746d51e41bc5a217002d081454b</td>\n      <td>Концептуальный дизайн</td>\n      <td>Домашняя работа</td>\n      <td>90c5f618-e9f3-4af8-96ab-f41b312bfa77</td>\n      <td>False</td>\n      <td>True</td>\n      <td>Веб-дизайн PRO 2.0</td>\n      <td>Design</td>\n    </tr>\n    <tr>\n      <th>8</th>\n      <td>a387ab916f402cb3fbfffd29f68fd0ce</td>\n      <td>1</td>\n      <td>2</td>\n      <td>done</td>\n      <td>2018-06-20 15:45:07.976223+00</td>\n      <td>2018-06-20 15:58:21.886722+00</td>\n      <td>768c2987a744c51ce64a5993a2a94eaf</td>\n      <td>c9fcb746d51e41bc5a217002d081454b</td>\n      <td>Специализация и личное позиционирование</td>\n      <td>Специализация</td>\n      <td>558acc64-3867-4ada-ac6f-36e9a7922f68</td>\n      <td>True</td>\n      <td>False</td>\n      <td>Веб-дизайн PRO 2.0</td>\n      <td>Design</td>\n    </tr>\n    <tr>\n      <th>9</th>\n      <td>a387ab916f402cb3fbfffd29f68fd0ce</td>\n      <td>1</td>\n      <td>5</td>\n      <td>done</td>\n      <td>2018-06-21 19:09:31.117521+00</td>\n      <td>2018-06-21 19:10:36.707919+00</td>\n      <td>768c2987a744c51ce64a5993a2a94eaf</td>\n      <td>c9fcb746d51e41bc5a217002d081454b</td>\n      <td>Специализация и личное позиционирование</td>\n      <td>Домашнее задание #2</td>\n      <td>7ea421f0-04b5-4df8-a76c-03e24692eba9</td>\n      <td>True</td>\n      <td>False</td>\n      <td>Веб-дизайн PRO 2.0</td>\n      <td>Design</td>\n    </tr>\n    <tr>\n      <th>10</th>\n      <td>a387ab916f402cb3fbfffd29f68fd0ce</td>\n      <td>2</td>\n      <td>3</td>\n      <td>done</td>\n      <td>2018-06-23 08:18:12.890698+00</td>\n      <td>2018-06-23 08:28:50.564437+00</td>\n      <td>768c2987a744c51ce64a5993a2a94eaf</td>\n      <td>c9fcb746d51e41bc5a217002d081454b</td>\n      <td>Концептуальный дизайн</td>\n      <td>Практика — дизайн-концепция</td>\n      <td>beb5abe6-b101-4003-a5ed-a87add92210a</td>\n      <td>True</td>\n      <td>False</td>\n      <td>Веб-дизайн PRO 2.0</td>\n      <td>Design</td>\n    </tr>\n    <tr>\n      <th>112420</th>\n      <td>6407c290505e790e92207a1dbc41a2cd</td>\n      <td>1</td>\n      <td>1</td>\n      <td>start</td>\n      <td>2018-06-20 14:25:13.010259+00</td>\n      <td>NaN</td>\n      <td>768c2987a744c51ce64a5993a2a94eaf</td>\n      <td>dad6f6ffc086caa89e2f40c28a9c7490</td>\n      <td>Профессия дизайнера в эпоху цифровых перемен</td>\n      <td>Приветствие</td>\n      <td>86d0d49c-5590-4c0b-8fca-927191bb3fd5</td>\n      <td>True</td>\n      <td>False</td>\n      <td>UX-дизайн</td>\n      <td>Design</td>\n    </tr>\n    <tr>\n      <th>132870</th>\n      <td>5767046d89ed7563a0c3a9a3896a23e6</td>\n      <td>1</td>\n      <td>3</td>\n      <td>done</td>\n      <td>2018-02-19 12:32:35.928905+00</td>\n      <td>2018-02-20 09:16:36.741375+00</td>\n      <td>768c2987a744c51ce64a5993a2a94eaf</td>\n      <td>04ba6d0b40670c43a209141fa01fa784</td>\n      <td>Введение в Motion Design. Тренды, разновидност...</td>\n      <td>Домашняя работа</td>\n      <td>c4377574-d117-45c7-8da5-dd7d1923517d</td>\n      <td>False</td>\n      <td>True</td>\n      <td>Анимация интерфейсов</td>\n      <td>Design</td>\n    </tr>\n    <tr>\n      <th>132871</th>\n      <td>5767046d89ed7563a0c3a9a3896a23e6</td>\n      <td>2</td>\n      <td>2</td>\n      <td>done</td>\n      <td>2018-02-22 08:57:31.008346+00</td>\n      <td>2018-04-28 13:45:40.708228+00</td>\n      <td>768c2987a744c51ce64a5993a2a94eaf</td>\n      <td>04ba6d0b40670c43a209141fa01fa784</td>\n      <td>12 принципов анимации от Walt Disney Studio</td>\n      <td>12 принципов анимации</td>\n      <td>7eea2930-11db-45c9-a16c-0d800b6dc99d</td>\n      <td>True</td>\n      <td>False</td>\n      <td>Анимация интерфейсов</td>\n      <td>Design</td>\n    </tr>\n    <tr>\n      <th>132872</th>\n      <td>5767046d89ed7563a0c3a9a3896a23e6</td>\n      <td>1</td>\n      <td>1</td>\n      <td>done</td>\n      <td>2018-01-13 15:20:23+00</td>\n      <td>2018-01-13 15:20:23+00</td>\n      <td>768c2987a744c51ce64a5993a2a94eaf</td>\n      <td>04ba6d0b40670c43a209141fa01fa784</td>\n      <td>Введение в Motion Design. Тренды, разновидност...</td>\n      <td>Знакомство</td>\n      <td>aa344de3-1191-4e69-b485-61823118f71c</td>\n      <td>True</td>\n      <td>False</td>\n      <td>Анимация интерфейсов</td>\n      <td>Design</td>\n    </tr>\n    <tr>\n      <th>132873</th>\n      <td>5767046d89ed7563a0c3a9a3896a23e6</td>\n      <td>1</td>\n      <td>2</td>\n      <td>done</td>\n      <td>2018-01-13 15:20:23+00</td>\n      <td>2018-01-14 13:47:25+00</td>\n      <td>768c2987a744c51ce64a5993a2a94eaf</td>\n      <td>04ba6d0b40670c43a209141fa01fa784</td>\n      <td>Введение в Motion Design. Тренды, разновидност...</td>\n      <td>Введение в Motion Design. Тренды, разновидност...</td>\n      <td>246c8429-dd18-4f3a-a9fb-d3c07e7d6912</td>\n      <td>True</td>\n      <td>False</td>\n      <td>Анимация интерфейсов</td>\n      <td>Design</td>\n    </tr>\n    <tr>\n      <th>132874</th>\n      <td>5767046d89ed7563a0c3a9a3896a23e6</td>\n      <td>2</td>\n      <td>1</td>\n      <td>done</td>\n      <td>2018-02-22 08:54:10.987784+00</td>\n      <td>2018-02-22 08:57:30.914939+00</td>\n      <td>768c2987a744c51ce64a5993a2a94eaf</td>\n      <td>04ba6d0b40670c43a209141fa01fa784</td>\n      <td>12 принципов анимации от Walt Disney Studio</td>\n      <td>Интро</td>\n      <td>7ea16a2d-e6d1-4158-907f-ae0ce8379c45</td>\n      <td>True</td>\n      <td>False</td>\n      <td>Анимация интерфейсов</td>\n      <td>Design</td>\n    </tr>\n    <tr>\n      <th>132875</th>\n      <td>5767046d89ed7563a0c3a9a3896a23e6</td>\n      <td>2</td>\n      <td>3</td>\n      <td>fail</td>\n      <td>2018-04-28 13:45:40.955076+00</td>\n      <td>NaN</td>\n      <td>768c2987a744c51ce64a5993a2a94eaf</td>\n      <td>04ba6d0b40670c43a209141fa01fa784</td>\n      <td>12 принципов анимации от Walt Disney Studio</td>\n      <td>Домашняя работа</td>\n      <td>f6f37ada-7763-4a06-9e45-a42ca568e69a</td>\n      <td>False</td>\n      <td>True</td>\n      <td>Анимация интерфейсов</td>\n      <td>Design</td>\n    </tr>\n    <tr>\n      <th>155020</th>\n      <td>c90ebe1431eac5cbb11692100b7a0f8d</td>\n      <td>1</td>\n      <td>3</td>\n      <td>done</td>\n      <td>2018-06-19 15:08:14.103923+00</td>\n      <td>2018-06-19 15:39:53.661163+00</td>\n      <td>768c2987a744c51ce64a5993a2a94eaf</td>\n      <td>e9bb9205eeed307ee7cbaa08bfd166c3</td>\n      <td>Знакомство с языком</td>\n      <td>Инструменты разработчика</td>\n      <td>460c54ea-d899-44d3-8940-00302ff5f2e5</td>\n      <td>True</td>\n      <td>False</td>\n      <td>JavaScript с нуля</td>\n      <td>Development</td>\n    </tr>\n    <tr>\n      <th>155021</th>\n      <td>c90ebe1431eac5cbb11692100b7a0f8d</td>\n      <td>1</td>\n      <td>1</td>\n      <td>done</td>\n      <td>2018-06-19 10:40:05.063485+00</td>\n      <td>2018-06-19 14:56:16.346353+00</td>\n      <td>768c2987a744c51ce64a5993a2a94eaf</td>\n      <td>e9bb9205eeed307ee7cbaa08bfd166c3</td>\n      <td>Знакомство с языком</td>\n      <td>Интро</td>\n      <td>0d4678b0-abfe-4132-9193-97f9b0f08d3a</td>\n      <td>True</td>\n      <td>False</td>\n      <td>JavaScript с нуля</td>\n      <td>Development</td>\n    </tr>\n    <tr>\n      <th>155022</th>\n      <td>c90ebe1431eac5cbb11692100b7a0f8d</td>\n      <td>1</td>\n      <td>7</td>\n      <td>start</td>\n      <td>2018-06-19 18:40:00.576904+00</td>\n      <td>NaN</td>\n      <td>768c2987a744c51ce64a5993a2a94eaf</td>\n      <td>e9bb9205eeed307ee7cbaa08bfd166c3</td>\n      <td>Знакомство с языком</td>\n      <td>Домашняя работа</td>\n      <td>af6e818e-08f0-4e32-981e-95a35395ee8f</td>\n      <td>False</td>\n      <td>True</td>\n      <td>JavaScript с нуля</td>\n      <td>Development</td>\n    </tr>\n    <tr>\n      <th>155023</th>\n      <td>c90ebe1431eac5cbb11692100b7a0f8d</td>\n      <td>1</td>\n      <td>5</td>\n      <td>done</td>\n      <td>2018-06-19 18:10:52.316728+00</td>\n      <td>2018-06-19 18:35:38.720317+00</td>\n      <td>768c2987a744c51ce64a5993a2a94eaf</td>\n      <td>e9bb9205eeed307ee7cbaa08bfd166c3</td>\n      <td>Знакомство с языком</td>\n      <td>Синтаксис языка</td>\n      <td>fe10ef7f-44cb-4184-b06f-d7c38b0e81a5</td>\n      <td>True</td>\n      <td>False</td>\n      <td>JavaScript с нуля</td>\n      <td>Development</td>\n    </tr>\n    <tr>\n      <th>155024</th>\n      <td>c90ebe1431eac5cbb11692100b7a0f8d</td>\n      <td>1</td>\n      <td>6</td>\n      <td>done</td>\n      <td>2018-06-19 18:35:38.884217+00</td>\n      <td>2018-06-19 18:37:11.155066+00</td>\n      <td>768c2987a744c51ce64a5993a2a94eaf</td>\n      <td>e9bb9205eeed307ee7cbaa08bfd166c3</td>\n      <td>Знакомство с языком</td>\n      <td>Аутро</td>\n      <td>efe6a65b-a9a2-4d3a-910a-750e72c3f118</td>\n      <td>True</td>\n      <td>False</td>\n      <td>JavaScript с нуля</td>\n      <td>Development</td>\n    </tr>\n    <tr>\n      <th>155025</th>\n      <td>c90ebe1431eac5cbb11692100b7a0f8d</td>\n      <td>1</td>\n      <td>4</td>\n      <td>done</td>\n      <td>2018-06-19 15:39:53.923777+00</td>\n      <td>2018-06-19 18:10:52.1737+00</td>\n      <td>768c2987a744c51ce64a5993a2a94eaf</td>\n      <td>e9bb9205eeed307ee7cbaa08bfd166c3</td>\n      <td>Знакомство с языком</td>\n      <td>Hello, world!</td>\n      <td>73315f69-8587-4f46-ab6b-fe57c8f1aa52</td>\n      <td>True</td>\n      <td>False</td>\n      <td>JavaScript с нуля</td>\n      <td>Development</td>\n    </tr>\n    <tr>\n      <th>155026</th>\n      <td>c90ebe1431eac5cbb11692100b7a0f8d</td>\n      <td>1</td>\n      <td>2</td>\n      <td>done</td>\n      <td>2018-06-19 14:56:16.570129+00</td>\n      <td>2018-06-19 15:08:13.930725+00</td>\n      <td>768c2987a744c51ce64a5993a2a94eaf</td>\n      <td>e9bb9205eeed307ee7cbaa08bfd166c3</td>\n      <td>Знакомство с языком</td>\n      <td>Что умеет JavaScript и почему он так популярен?</td>\n      <td>6af5b93a-593b-48a0-bb03-42fa2571ede5</td>\n      <td>True</td>\n      <td>False</td>\n      <td>JavaScript с нуля</td>\n      <td>Development</td>\n    </tr>\n  </tbody>\n</table>\n</div>"
     },
     "metadata": {},
     "output_type": "execute_result",
     "execution_count": 31
    }
   ],
   "source": [
    "main[main.student_id == '768c2987a744c51ce64a5993a2a94eaf'] # проверка основного датасета"
   ]
  },
  {
   "cell_type": "code",
   "execution_count": 32,
   "metadata": {
    "pycharm": {
     "is_executing": false
    }
   },
   "outputs": [],
   "source": [
    "# ПОДГОТОВКА ДАННЫХ\n",
    "\n",
    "import csv\n",
    "import pandas as pd\n",
    "import numpy as np\n",
    "\n",
    "data = dict() # словарь содержащий стартовые наборы данных\n",
    "files_names = ['courses', 'students', 'progress_phases', 'progresses', 'course_contents']\n",
    "file_path = './data/'\n",
    "\n",
    "# считываем каждый датафрейм в словарь\n",
    "for file_name in files_names:\n",
    "    data[file_name] = pd.read_csv('{}{}{}'.format(file_path, file_name, '.csv'))"
   ]
  },
  {
   "cell_type": "code",
   "execution_count": 33,
   "outputs": [],
   "source": [
    "# СОБИРАЕМ ОБЩИЙ ДАТАСЕТ main\n",
    "\n",
    "# собираем данные о прогрессах\n",
    "main = pd.merge(data['progress_phases'], data['progresses'], how='inner', left_on='progress_id', right_on='id')\n",
    "del main['id']\n",
    "# собираем данные о курсах\n",
    "courses_df = pd.merge(data['course_contents'], data['courses'].iloc[:,1:], how='left', left_on='course_id', right_on='id')\n",
    "del courses_df['id']\n",
    "courses_df.rename(columns={'title':'course_title', 'field':'course_field'}, inplace=True)\n",
    "# объединяем данные о прогрессах и курсах в общий датафрейм\n",
    "main = pd.merge(main, courses_df, how='left', on=['course_id', 'module_number', 'lesson_number'])"
   ],
   "metadata": {
    "collapsed": false,
    "pycharm": {
     "name": "#%%\n",
     "is_executing": false
    }
   }
  },
  {
   "cell_type": "code",
   "execution_count": 72,
   "outputs": [
    {
     "name": "stdout",
     "text": [
      "Общее количество курсов:  15\nКоличество модулей в каждом курсе:\ncourse_title\nExcel Базовый                           9\nJava-разработчик                       17\nJava-разработчик c нуля                 9\nJavaScript с нуля                      18\nPHP-разработчик с 0 до PRO. Часть 1     8\nSMM-маркетолог от А до Я               11\nUX-дизайн                              20\nАнимация интерфейсов                   21\nВеб-вёрстка для начинающих 2.0          8\nВеб-дизайн PRO 2.0                     17\nВеб-дизайн Базовый                     17\nВеб-дизайн с нуля 2.0                  19\nВеб-разработчик                        20\nИнтернет-маркетолог от Ingate          18\nРуководитель digital-проектов          17\nName: module_title, dtype: int64\nКоличество уроков в каждом модуле на каждом курсе:\n                                                                                 lessons_count\n                                                                                         count\ncourse_title                  module_title                                                    \nExcel Базовый                  Визуализация данных Excel                                     5\n                              Основной функционал Excel                                     11\n                              Основной функционал Excel (продолжение)                        7\n                              Сводные таблицы Excel                                          5\n                              Формулы и функции Excel. Более сложные формулы                 5\n                              Формулы и функции Excel. Введение                              3\n                              Формулы и функции Excel. Продолжаем работать с ...             7\n                              Формулы и функции Excel. Работа с ошибками, про...             5\n                              Экзаменационная работа                                         1\nJava-разработчик              Вводный модуль                                                 8\n                              Веб-приложения: формы, заголовки и сессии                      6\n                              Внешний вид GUI и рисование                                    7\n                              Заключительный модуль                                          8\n                              Итоговая тема                                                  1\n                              Массивы и коллекции                                            7\n                              Многопоточность                                                7\n                              Наследование и полиморфизм                                     6\n                              Объекты и классы                                               9\n                              Оптимизация кода и приложений                                  5\n                              Основы построения GUI                                          7\n                              Основы построения веб-приложений                               7\n                              Работа с базами данных                                         6\n                              Работа с файлами и сетью                                       8\n                              Синтаксис языка                                                8\n                              Тестирование и отладка                                         5\n                              Числа, строки и даты                                           9\nJava-разработчик c нуля       Вводный модуль                                                 7\n                              Исключения, отладка, тестирование и логгирование              11\n                              Массивы и коллекции                                           13\n                              Наследование и полиморфизм                                    13\n...                                                                                        ...\nИнтернет-маркетолог от Ingate Исследование целевой аудитории: портретирование...             6\n                              Контекстная реклама в Yandex Direct и Google Ad...            17\n                              Контент-маркетинг: стратегия коммуникации, кана...             5\n                              Маркетплейсы                                                   5\n                              Медиапланирование: разработка комплексной страт...             5\n                              Медийная реклама и RTB: охват или целевые польз...            12\n                              Партнерский CPA-маркетинг                                      6\n                              Построение маркетинговой структуры и работа с к...             8\n                              Таргетированная реклама в социальных сетях                    16\n                              Управление репутацией (SERM)                                  12\n                              Финальное тестирование                                         1\n                              Юзабилити: разработка эффективного сайта                       4\n                              Юридическая сторона рекламы                                    2\nРуководитель digital-проектов Scrum. Передовая методология управления digital...             6\n                              Scrum: передовая методология управления совреме...             5\n                              Аналитика. Базовые навыки                                      3\n                              БОНУСНЫЙ МОДУЛЬ: Работа с типовыми документами                 4\n                              Интеграционные проекты.                                        4\n                              Как пасти котов: правильное делегирование в IT                 4\n                              Контроль. Риски. Поощрения. Наказания. Обратная...             8\n                              Основы технической грамотности                                12\n                              Оценка и декомпозиция digital-проектов                        12\n                              Переговорные навыки. Провокации. Работа с возра...             6\n                              Переговорные навыки. Часть 1. Цикл продаж                      5\n                              Релиз-менеджмент: готовим проекты к запуску                    3\n                              Решение факапов. Lean/TOC. Обзор.                              5\n                              Требовательность digital-продюсера                             4\n                              Управление временем                                            4\n                              Управление дизайнерами. Разработка дизайна по s...             7\n                              Экологичный путь менеджера                                     4\n\n[229 rows x 1 columns]\n\nМедианное количество уроков по модулям и курсам:\ncourse_title\nExcel Базовый                           41\nJava-разработчик                        97\nJava-разработчик c нуля                 99\nJavaScript с нуля                       99\nPHP-разработчик с 0 до PRO. Часть 1     35\nSMM-маркетолог от А до Я                56\nUX-дизайн                               65\nАнимация интерфейсов                    48\nВеб-вёрстка для начинающих 2.0          48\nВеб-дизайн PRO 2.0                      49\nВеб-дизайн Базовый                      48\nВеб-дизайн с нуля 2.0                   53\nВеб-разработчик                         20\nИнтернет-маркетолог от Ingate          155\nРуководитель digital-проектов           81\nName: lesson_title, dtype: int64\n"
     ],
     "output_type": "stream"
    },
    {
     "name": "stderr",
     "text": [
      "C:\\Users\\admin\\AppData\\Local\\Continuum\\anaconda3\\lib\\site-packages\\ipykernel_launcher.py:9: FutureWarning: using a dict on a Series for aggregation\nis deprecated and will be removed in a future version\n  if __name__ == '__main__':\n"
     ],
     "output_type": "stream"
    }
   ],
   "source": [
    "# общее количество курсов в датасете\n",
    "print('Общее количество курсов: ', len(courses_df.groupby(['course_id'])))\n",
    "# количество модулей на каждом курсе,\n",
    "print('Количество модулей в каждом курсе:')\n",
    "print(courses_df.groupby(['course_title'])['module_title'].nunique())\n",
    "\n",
    "print('Количество уроков в каждом модуле на каждом курсе:')\n",
    "print(courses_df.groupby(['course_title', 'module_title'])['lesson_title'].agg({\n",
    "    'lessons_count':['count']\n",
    "}))\n",
    "\n",
    "print('\\nМедианное количество уроков по модулям и курсам:')\n",
    "print(courses_df.groupby(['course_title'])['lesson_title'].nunique())\n",
    "# количество уроков в каждом модуле на каждом курсе,\n",
    "# медианное количество уроков в модуле на каждом курсе,\n",
    "# количество учеников на каждом курсе\n",
    "# минимальный, максимальный, средний, медианный возраст студентов\n",
    "# минимальный, максимальный, средний, медианный возраст студентов на каждом курсе"
   ],
   "metadata": {
    "collapsed": false,
    "pycharm": {
     "name": "#%%\n",
     "is_executing": false
    }
   }
  },
  {
   "cell_type": "markdown",
   "metadata": {},
   "source": [
    "## 2. Расчет потенциальной нагрузки на преподавателей\n",
    "\n",
    "1. **(p)** Рассчитать прирост студентов на каждом курсе в каждом месяце за всю историю (каждый месяц в диапазоне от марта 2016 до июля 2019 включительно). Считать дату начала прохождения курса студентом по дате начала первой домашней работы.\n",
    "2. **(m)** На основании первого пункта построить line-graph с приростом студентов в каждом месяце для каждого курса. 15 графиков. Графики должны иметь заголовки, оси должны быть подписаны. Ticks нужно развернуть так, чтобы они были читаемы.\n",
    "3. **(m)** На основании первого пункта построить line-graph с несколькими линиями, отражающими прирост студентов в каждом месяце для каждого курса. 15 линий на графике. Ticks нужно развернуть так, чтобы они были читаемы. График должен иметь заголовок. Ось, отражающая прирост, должна быть подписана. Линия для каждого курса должна иметь свой цвет (нужна легенда). Рамок у графика быть не должно ⭐\n",
    "4. **(p)** Рассчитать количество прогрессов по выполнению домашних работ в каждом месяце за всю историю (каждый месяц в диапазоне от марта 2016 до июля 2019 включительно) для каждого курса. Учитывать, что выполнение домашнего задания может перетекать из одного месяца в другой (такие дз надо включать в общее число прогрессов для всех месяцев, которые покрывает срок выполнения этих дз)\n",
    "5. **(m)** Построить line-graph по четвертому пункту. 15 графиков. Графики должны иметь заголовки, оси должны быть подписаны. Ticks нужно развернуть так, чтобы они были читаемы\n",
    "6. **(m)** Построить один line-graph для всех курсов по четвертому пункту. 15 линий на графике. Ticks нужно развернуть так, чтобы они были читаемы. График должен иметь заголовок. Ось, отражающая количество прогрессов, должна быть подписана. Линия для каждого курса должна иметь свой цвет (нужна легенда). Рамок у графика быть не должно ⭐\n",
    "7. На основании рассчитанных значений сделайте аналитический вывод (должен быть полным и покрывать все полученные выше метрики)"
   ]
  },
  {
   "cell_type": "code",
   "execution_count": 35,
   "metadata": {
    "pycharm": {
     "is_executing": false
    }
   },
   "outputs": [],
   "source": [
    "### YOUR CODE HERE ###\n",
    "\n"
   ]
  },
  {
   "cell_type": "markdown",
   "metadata": {},
   "source": [
    "## 3. Выявление проблемных модулей\n",
    "\n",
    "1. **(p)** Рассчитать минимальное, максимальное, среднее, медианное время прохождения каждого модуля (разность между временем начала и окончания выполнения домашней работы) для каждого курса. Если домашних заданий в модуле несколько, то считать разность между временем начала выполнения первой домашней работы и временем окончания выполнения последней домашней работы в модуле\n",
    "2. **(m)** На основании первого пункта построить line-graph с медианным временем прохождения каждого модуля для каждого курса. 15 графиков. Графики должны иметь заголовки\n",
    "3. **(p)**  Чтобы выявить сезонность, посчитать медианное время выполнения домашней работы по месяцам (12 месяцев, январь-декабрь) для каждого курса. \n",
    "4. **(m)** На основании третьего пункта построить line-graph, на который будут нанесены линии для каждого курса с медианным временем выполнения домашней работы по месяцам. 15 линий на графике. График должен иметь заголовок. Ось, отражающая время прохождения, должна быть подписана. Линия для каждого курса должна иметь свой цвет (нужна легенда). Рамок у графика быть не должно  ⭐\n",
    "5. На основании рассчитанных значений сделайте аналитический вывод (должен быть полным и покрывать все полученные выше метрики)"
   ]
  },
  {
   "cell_type": "code",
   "execution_count": 36,
   "metadata": {
    "pycharm": {
     "is_executing": false
    }
   },
   "outputs": [],
   "source": [
    "### YOUR CODE HERE ###\n",
    "\n",
    "\n"
   ]
  },
  {
   "cell_type": "markdown",
   "metadata": {},
   "source": [
    "## 4. Расчет конверсии\n",
    "\n",
    "1. **(p)** Посчитать конверсию перехода студентов из одного модуля в другой на каждом курсе. Формула: отношение количества студентов, приступивших к выполнению домашнего задания в этом модуле (если дз в модуле несколько, то считать по первому дз в модуле), к количеству студентов, сдавших задание в предыдущем модуле (если дз в модуле несколько, то считать по последнему дз в модуле).\n",
    "2. **(m)** Постройте bar-chart, отражающий конверсию перехода студентов из одного модуля в другой на каждом курсе. График должен иметь заголовок. Ticks нужно развернуть так, чтобы они были читаемы\n",
    "3. **(m)** Постройте горизонтальный (столбцы должны располагаться горизонтально) bar-chart, отражающий конверсию перехода студентов из одного модуля в другой на каждом курсе. 15 графиков. Графики должны иметь заголовки. Ticks должны содержать номер и название модуля. Цвет столбцов графиков должен содержать информацию о сфере, к которой относится курс (нужна легенда). Прозрачность должна стоять на отметке 0.1. На графики должна быть нанесена линия медианы конверсии для каждого курса. У медианы должен быть свой цвет. Рамок у графиков быть не должно ⭐\n",
    "4. На основании рассчитанных значений сделайте аналитический вывод (должен быть полным и покрывать все полученные выше метрики)"
   ]
  },
  {
   "cell_type": "code",
   "execution_count": 37,
   "metadata": {
    "pycharm": {
     "is_executing": false
    }
   },
   "outputs": [],
   "source": [
    "### YOUR CODE HERE ###\n",
    "\n",
    "\n"
   ]
  },
  {
   "cell_type": "markdown",
   "metadata": {},
   "source": [
    "## 5. Метрика успеваемости \n",
    "\n",
    "&nbsp;&nbsp;&nbsp;&nbsp;*(необязательное задание)*\n",
    "\n",
    "Иногда студенты берут курсы, которые оказываются для них неподъемными. Это может быть как по причинам недостаточной изначальной подготовки, так и по причинам, связанным с низкой мотивацией студента. Для улучшения качества контента полезно выявить причину. На основании имеющихся данных придумайте метрику успеваемости студента. **Обоснуйте ее.** Выявите таких студентов на каждом курсе, чтобы предоставить продюсерам список проблемных студентов. "
   ]
  },
  {
   "cell_type": "code",
   "execution_count": 38,
   "metadata": {
    "pycharm": {
     "is_executing": false
    }
   },
   "outputs": [],
   "source": [
    "### YOUR CODE HERE ###\n",
    "\n",
    "\n"
   ]
  }
 ],
 "metadata": {
  "kernelspec": {
   "display_name": "Python 3",
   "language": "python",
   "name": "python3"
  },
  "language_info": {
   "codemirror_mode": {
    "name": "ipython",
    "version": 3
   },
   "file_extension": ".py",
   "mimetype": "text/x-python",
   "name": "python",
   "nbconvert_exporter": "python",
   "pygments_lexer": "ipython3",
   "version": "3.6.3"
  },
  "pycharm": {
   "stem_cell": {
    "cell_type": "raw",
    "source": [],
    "metadata": {
     "collapsed": false
    }
   }
  }
 },
 "nbformat": 4,
 "nbformat_minor": 2
}